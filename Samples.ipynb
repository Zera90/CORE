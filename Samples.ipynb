{
 "cells": [
  {
   "cell_type": "markdown",
   "metadata": {},
   "source": [
    "I need the samples for clustering redshifts: \n",
    "\n",
    "- shape catalogue from alex justin\n",
    "- shape catalogue randoms (after applying rm mask)\n",
    "- redmagic from mastercat\n",
    "- redmagic randoms from mastercat\n",
    "\n",
    "to shapes and rm randoms, the rm mask has to be applied. \n",
    "Also, to the shape catalogue, I need to select a select_flag == 0. \n",
    "\n"
   ]
  },
  {
   "cell_type": "code",
   "execution_count": 1,
   "metadata": {},
   "outputs": [],
   "source": [
    "folder = '/global/cscratch1/sd/giannini/clusteringz/Y3data/'"
   ]
  },
  {
   "cell_type": "code",
   "execution_count": 2,
   "metadata": {},
   "outputs": [],
   "source": [
    "import numpy as np\n",
    "import cPickle as pickle\n",
    "import os\n",
    "import shutil\n",
    "import pandas as pd\n",
    "def save_obj(name, obj):\n",
    "    with open(name + '.pkl', 'wb') as f:\n",
    "        pickle.dump(obj, f, pickle.HIGHEST_PROTOCOL)\n",
    "        f.close()\n",
    "        \n",
    "def load_obj(name):\n",
    "    with open(name + '.pkl', 'rb') as f:\n",
    "        mute =  pickle.load(f)\n",
    "        f.close()\n",
    "    return mute"
   ]
  },
  {
   "cell_type": "code",
   "execution_count": 3,
   "metadata": {},
   "outputs": [],
   "source": [
    "import astropy.io.fits as pf"
   ]
  },
  {
   "cell_type": "code",
   "execution_count": 2,
   "metadata": {},
   "outputs": [],
   "source": [
    "meow = pf.open('/project/projectdirs/des/jvicente/y3/sof/train_gold_2_2/y3_train_april2018_nvp_y4.fits')"
   ]
  },
  {
   "cell_type": "code",
   "execution_count": 3,
   "metadata": {},
   "outputs": [
    {
     "data": {
      "text/plain": [
       "XTENSION= 'BINTABLE'           / binary table extension                         \n",
       "BITPIX  =                    8 / 8-bit bytes                                    \n",
       "NAXIS   =                    2 / 2-dimensional binary table                     \n",
       "NAXIS1  =                   80 / width of table in bytes                        \n",
       "NAXIS2  =               143562 / number of rows in table                        \n",
       "PCOUNT  =                    0 / size of special data area                      \n",
       "GCOUNT  =                    1 / one data group (required keyword)              \n",
       "TFIELDS =                   10 / number of fields in each row                   \n",
       "TTYPE1  = 'COADD_OBJECT_ID'    / label for field   1                            \n",
       "TFORM1  = 'K       '           / data format of field: 8-byte INTEGER           \n",
       "TTYPE2  = 'CM_FLUX_CORRECTED_G' / label for field   2                           \n",
       "TFORM2  = 'D       '           / data format of field: 8-byte DOUBLE            \n",
       "TTYPE3  = 'CM_FLUX_CORRECTED_R' / label for field   3                           \n",
       "TFORM3  = 'D       '           / data format of field: 8-byte DOUBLE            \n",
       "TTYPE4  = 'CM_FLUX_CORRECTED_I' / label for field   4                           \n",
       "TFORM4  = 'D       '           / data format of field: 8-byte DOUBLE            \n",
       "TTYPE5  = 'CM_FLUX_CORRECTED_Z' / label for field   5                           \n",
       "TFORM5  = 'D       '           / data format of field: 8-byte DOUBLE            \n",
       "TTYPE6  = 'CM_FLUXERR_CORRECTED_G' / label for field   6                        \n",
       "TFORM6  = 'D       '           / data format of field: 8-byte DOUBLE            \n",
       "TTYPE7  = 'CM_FLUXERR_CORRECTED_R' / label for field   7                        \n",
       "TFORM7  = 'D       '           / data format of field: 8-byte DOUBLE            \n",
       "TTYPE8  = 'CM_FLUXERR_CORRECTED_I' / label for field   8                        \n",
       "TFORM8  = 'D       '           / data format of field: 8-byte DOUBLE            \n",
       "TTYPE9  = 'CM_FLUXERR_CORRECTED_Z' / label for field   9                        \n",
       "TFORM9  = 'D       '           / data format of field: 8-byte DOUBLE            \n",
       "TTYPE10 = 'Z       '           / label for field  10                            \n",
       "TFORM10 = 'D       '           / data format of field: 8-byte DOUBLE            \n",
       "HISTORY Created by easyaccess 1.3.1 on 2018-Apr-09 19:12:21                     \n",
       "COMMENT Query = select COADD_OBJECT_ID,CM_FLUX_CORRECTED_G,CM_FLUX_CORRECTED_R,C\n",
       "COMMENT M_FLUX_CORRECTED_I,CM_FLUX_CORRECTED_Z,CM_FLUXERR_CORRECTED_G,CM_FLUXERR\n",
       "COMMENT _CORRECTED_R,CM_FLUXERR_CORRECTED_I,CM_FLUXERR_CORRECTED_Z,Z from carner\n",
       "COMMENT o.Y3_TRAIN_APRIL2018_NVP_Y4                                             "
      ]
     },
     "execution_count": 3,
     "metadata": {},
     "output_type": "execute_result"
    }
   ],
   "source": [
    "meow[1].header"
   ]
  },
  {
   "cell_type": "markdown",
   "metadata": {},
   "source": [
    "# import file"
   ]
  },
  {
   "cell_type": "code",
   "execution_count": 4,
   "metadata": {},
   "outputs": [],
   "source": [
    "import matplotlib.pyplot as plt\n",
    "\n",
    "import astropy.io.fits as pf\n",
    "import h5py as h5py\n",
    "import time\n"
   ]
  },
  {
   "cell_type": "markdown",
   "metadata": {},
   "source": [
    "### sompz"
   ]
  },
  {
   "cell_type": "code",
   "execution_count": 112,
   "metadata": {},
   "outputs": [
    {
     "data": {
      "text/plain": [
       "[u'catalog']"
      ]
     },
     "execution_count": 112,
     "metadata": {},
     "output_type": "execute_result"
    }
   ],
   "source": [
    "import h5py as h5py \n",
    "\n",
    "sompz_data = h5py.File('/global/cscratch1/sd/aamon/sompz_data/v0.12/sompz_data.h5')"
   ]
  },
  {
   "cell_type": "code",
   "execution_count": 113,
   "metadata": {},
   "outputs": [],
   "source": [
    "sompz_data.close()"
   ]
  },
  {
   "cell_type": "code",
   "execution_count": 31,
   "metadata": {},
   "outputs": [
    {
     "data": {
      "text/plain": [
       "[u'PASS_WL',\n",
       " u'bhat',\n",
       " u'cell_wide',\n",
       " u'e1',\n",
       " u'e2',\n",
       " u'flux_i',\n",
       " u'flux_r',\n",
       " u'flux_z']"
      ]
     },
     "execution_count": 31,
     "metadata": {},
     "output_type": "execute_result"
    }
   ],
   "source": [
    "sompz_data['catalog/sompz']['unsheared'].keys()"
   ]
  },
  {
   "cell_type": "code",
   "execution_count": 34,
   "metadata": {},
   "outputs": [
    {
     "data": {
      "text/plain": [
       "array([ 1,  1,  0, ...,  3,  0, -1])"
      ]
     },
     "execution_count": 34,
     "metadata": {},
     "output_type": "execute_result"
    }
   ],
   "source": [
    "np.array(sompz_data['catalog/sompz']['unsheared/bhat'])"
   ]
  },
  {
   "cell_type": "markdown",
   "metadata": {},
   "source": [
    "### mastercat per rm"
   ]
  },
  {
   "cell_type": "code",
   "execution_count": 52,
   "metadata": {},
   "outputs": [],
   "source": [
    "mastercat = h5py.File('/project/projectdirs/des/www/y3_cats/Y3_mastercat_7_24_19.h5')"
   ]
  },
  {
   "cell_type": "code",
   "execution_count": 91,
   "metadata": {},
   "outputs": [],
   "source": [
    "mastercat.close()"
   ]
  },
  {
   "cell_type": "code",
   "execution_count": 53,
   "metadata": {},
   "outputs": [
    {
     "data": {
      "text/plain": [
       "[u'catalog', u'index', u'maps', u'masks', u'randoms', u'regions']"
      ]
     },
     "execution_count": 53,
     "metadata": {},
     "output_type": "execute_result"
    }
   ],
   "source": [
    "mastercat.keys()"
   ]
  },
  {
   "cell_type": "code",
   "execution_count": 54,
   "metadata": {},
   "outputs": [
    {
     "data": {
      "text/plain": [
       "[u'chisq',\n",
       " u'coadd_object_id',\n",
       " u'dec',\n",
       " u'mabs',\n",
       " u'mabs_err',\n",
       " u'model_mag',\n",
       " u'model_magerr',\n",
       " u'ra',\n",
       " u'redmagicflag',\n",
       " u'weight',\n",
       " u'zlum',\n",
       " u'zmag',\n",
       " u'zmag_err',\n",
       " u'zredmagic',\n",
       " u'zredmagic_e',\n",
       " u'zspec']"
      ]
     },
     "execution_count": 54,
     "metadata": {},
     "output_type": "execute_result"
    }
   ],
   "source": [
    "mastercat['catalog']['redmagic']['combined_sample_fid'].keys()"
   ]
  },
  {
   "cell_type": "markdown",
   "metadata": {},
   "source": [
    "# redMagic mask "
   ]
  },
  {
   "cell_type": "code",
   "execution_count": 85,
   "metadata": {},
   "outputs": [],
   "source": [
    "hpix = np.array(mastercat['masks']['redmagic']['combined_sample_fid']['hpix'])"
   ]
  },
  {
   "cell_type": "code",
   "execution_count": 86,
   "metadata": {},
   "outputs": [],
   "source": [
    "nside = 4096"
   ]
  },
  {
   "cell_type": "code",
   "execution_count": 57,
   "metadata": {},
   "outputs": [
    {
     "name": "stdout",
     "output_type": "stream",
     "text": [
      "201326592\n"
     ]
    },
    {
     "data": {
      "image/png": "[encoded data removed]",
      "text/plain": [
       "<Figure size 612x388.8 with 2 Axes>"
      ]
     },
     "metadata": {
      "needs_background": "light"
     },
     "output_type": "display_data"
    }
   ],
   "source": [
    "import healpy as hp\n",
    "\n",
    "#num pixels for given nside\n",
    "mask = np.zeros(hp.pixelfunc.nside2npix(nside))\n",
    "print len(mask)\n",
    "#assign true to the part that is \n",
    "mask[hpix] = True\n",
    "hp.mollview(mask,nest=True)"
   ]
  },
  {
   "cell_type": "markdown",
   "metadata": {},
   "source": [
    "# Red Magic"
   ]
  },
  {
   "cell_type": "code",
   "execution_count": 62,
   "metadata": {},
   "outputs": [],
   "source": [
    "decrm = mastercat['catalog'][ 'redmagic']['combined_sample_fid']['dec']\n",
    "rarm = mastercat['catalog'][ 'redmagic']['combined_sample_fid']['ra']\n",
    "zspecrm = mastercat['catalog'][ 'redmagic']['combined_sample_fid']['zspec']\n",
    "zredmagic = mastercat['catalog'][ 'redmagic']['combined_sample_fid']['zredmagic']\n",
    "weight = mastercat['catalog'][ 'redmagic']['combined_sample_fid']['weight']\n",
    "id_obj = mastercat['catalog'][ 'redmagic']['combined_sample_fid']['coadd_object_id']\n",
    "rm_flag = mastercat['catalog'][ 'redmagic']['combined_sample_fid']['redmagicflag']"
   ]
  },
  {
   "cell_type": "code",
   "execution_count": 60,
   "metadata": {},
   "outputs": [
    {
     "data": {
      "text/plain": [
       "(array([     0.,      0.,      0.,      0.,      0.,      0.,      0.,\n",
       "         11775.,  15378.,  18225.,  28313.,  33237.,  35097.,  40001.,\n",
       "         51672.,  58250.,  55356.,  59034.,  66627.,  76729.,  79222.,\n",
       "         82868.,  95413., 106524., 111452., 111568., 115656., 121909.,\n",
       "        127176., 131885., 134753., 123795.,  63089.,  58706.,  72885.,\n",
       "         74474.,  66059.,  74694.,  68188.,  82901.,  84968.,  79906.,\n",
       "         75437.,  77696.,  92653., 105036.,  57931.,      0.,      0.]),\n",
       " array([0.        , 0.02040816, 0.04081633, 0.06122449, 0.08163265,\n",
       "        0.10204082, 0.12244898, 0.14285714, 0.16326531, 0.18367347,\n",
       "        0.20408163, 0.2244898 , 0.24489796, 0.26530612, 0.28571429,\n",
       "        0.30612245, 0.32653061, 0.34693878, 0.36734694, 0.3877551 ,\n",
       "        0.40816327, 0.42857143, 0.44897959, 0.46938776, 0.48979592,\n",
       "        0.51020408, 0.53061224, 0.55102041, 0.57142857, 0.59183673,\n",
       "        0.6122449 , 0.63265306, 0.65306122, 0.67346939, 0.69387755,\n",
       "        0.71428571, 0.73469388, 0.75510204, 0.7755102 , 0.79591837,\n",
       "        0.81632653, 0.83673469, 0.85714286, 0.87755102, 0.89795918,\n",
       "        0.91836735, 0.93877551, 0.95918367, 0.97959184, 1.        ]),\n",
       " <a list of 49 Patch objects>)"
      ]
     },
     "execution_count": 60,
     "metadata": {},
     "output_type": "execute_result"
    },
    {
     "data": {
      "image/png": "[encoded data removed]",
      "text/plain": [
       "<Figure size 432x288 with 1 Axes>"
      ]
     },
     "metadata": {
      "needs_background": "light"
     },
     "output_type": "display_data"
    }
   ],
   "source": [
    "plt.hist(zredmagic, bins = np.linspace(0, 1, 50))"
   ]
  },
  {
   "cell_type": "code",
   "execution_count": 67,
   "metadata": {},
   "outputs": [],
   "source": [
    "from astropy.table import Table\n",
    "path = folder + 'data/redMagic_Y3data.fits'\n",
    "fits_f = Table()\n",
    "fits_f['RA'] = rarm\n",
    "fits_f['DEC'] = decrm\n",
    "fits_f['ZREDMAGIC'] = zredmagic\n",
    "fits_f['Z'] = zspecrm\n",
    "fits_f['weight'] = weight\n",
    "fits_f.write(path)"
   ]
  },
  {
   "cell_type": "code",
   "execution_count": 11,
   "metadata": {},
   "outputs": [],
   "source": [
    "rm = pf.open(folder + 'data/redMagic_Y3data.fits')\n",
    "eboss = pf.open(folder+'data/eBOSS_BOSS_all5_v7nov19_y3cuts_totweight.fits')"
   ]
  },
  {
   "cell_type": "code",
   "execution_count": 19,
   "metadata": {},
   "outputs": [
    {
     "data": {
      "text/plain": [
       "2.1999822"
      ]
     },
     "execution_count": 19,
     "metadata": {},
     "output_type": "execute_result"
    }
   ],
   "source": [
    "max(eboss[1].data['Z'])"
   ]
  },
  {
   "cell_type": "code",
   "execution_count": 27,
   "metadata": {},
   "outputs": [],
   "source": [
    "mask_rm = (rm[1].data['ZREDMAGIC']>0.15) & (rm[1].data['ZREDMAGIC']<0.95)"
   ]
  },
  {
   "cell_type": "code",
   "execution_count": 30,
   "metadata": {},
   "outputs": [],
   "source": [
    "mask_eboss = (eboss[1].data['Z']>0.1) & (eboss[1].data['Z']<1.1)"
   ]
  },
  {
   "cell_type": "code",
   "execution_count": null,
   "metadata": {},
   "outputs": [],
   "source": []
  },
  {
   "cell_type": "code",
   "execution_count": 31,
   "metadata": {},
   "outputs": [
    {
     "data": {
      "text/plain": [
       "(239139, 3026538)"
      ]
     },
     "execution_count": 31,
     "metadata": {},
     "output_type": "execute_result"
    }
   ],
   "source": [
    "len(eboss[1].data['Z'][mask_eboss]), len(rm[1].data['ZREDMAGIC'][mask_rm])"
   ]
  },
  {
   "cell_type": "code",
   "execution_count": 22,
   "metadata": {},
   "outputs": [
    {
     "data": {
      "text/plain": [
       "Text(0.5,0,'z')"
      ]
     },
     "execution_count": 22,
     "metadata": {},
     "output_type": "execute_result"
    },
    {
     "data": {
      "image/png": "[encoded data removed]",
      "text/plain": [
       "<Figure size 432x288 with 1 Axes>"
      ]
     },
     "metadata": {
      "needs_background": "light"
     },
     "output_type": "display_data"
    }
   ],
   "source": [
    "plt.hist(rm[1].data['ZREDMAGIC'], bins = np.linspace(0, 2.2, 50), normed=True, histtype = 'step', label = 'RedMaGiC')\n",
    "plt.hist(eboss[1].data['Z'], bins = np.linspace(0, 2.2, 50), normed=True, histtype = 'step', label = 'eBOSS')\n",
    "plt.title('n(z)')\n",
    "plt.legend()\n",
    "plt.xlabel('z')"
   ]
  },
  {
   "cell_type": "code",
   "execution_count": 63,
   "metadata": {},
   "outputs": [
    {
     "data": {
      "text/plain": [
       "XTENSION= 'BINTABLE'           / binary table extension                         \n",
       "BITPIX  =                    8 / array data type                                \n",
       "NAXIS   =                    2 / number of array dimensions                     \n",
       "NAXIS1  =                   32 / length of dimension 1                          \n",
       "NAXIS2  =              2672681 / length of dimension 2                          \n",
       "PCOUNT  =                    0 / number of group parameters                     \n",
       "GCOUNT  =                    1 / number of groups                               \n",
       "TFIELDS =                    5 / number of table fields                         \n",
       "TTYPE1  = 'RA      '                                                            \n",
       "TFORM1  = 'D       '                                                            \n",
       "TTYPE2  = 'DEC     '                                                            \n",
       "TFORM2  = 'D       '                                                            \n",
       "TTYPE3  = 'ZREDMAGIC'                                                           \n",
       "TFORM3  = 'E       '                                                            \n",
       "TTYPE4  = 'Z       '                                                            \n",
       "TFORM4  = 'E       '                                                            \n",
       "TTYPE5  = 'weight  '                                                            \n",
       "TFORM5  = 'D       '                                                            "
      ]
     },
     "execution_count": 63,
     "metadata": {},
     "output_type": "execute_result"
    }
   ],
   "source": [
    "rm[1].header"
   ]
  },
  {
   "cell_type": "code",
   "execution_count": 68,
   "metadata": {},
   "outputs": [
    {
     "data": {
      "text/plain": [
       "<matplotlib.collections.PathCollection at 0x2aaaf048c2d0>"
      ]
     },
     "execution_count": 68,
     "metadata": {},
     "output_type": "execute_result"
    },
    {
     "data": {
      "image/png": "[encoded data removed]",
      "text/plain": [
       "<Figure size 432x288 with 1 Axes>"
      ]
     },
     "metadata": {
      "needs_background": "light"
     },
     "output_type": "display_data"
    }
   ],
   "source": [
    "plt.scatter(rarm[1::300], decrm[1::300])"
   ]
  },
  {
   "cell_type": "markdown",
   "metadata": {},
   "source": [
    "I have to convert ra-dec of every galaxy in pixel coordinates. \n",
    "then check, if the galaxy is in the group of pixels allowed by the mask, set is as true"
   ]
  },
  {
   "cell_type": "code",
   "execution_count": 18,
   "metadata": {},
   "outputs": [],
   "source": [
    "#shape_pix = convert_to_pix_coord(ra, dec, nside = 4096)"
   ]
  },
  {
   "cell_type": "code",
   "execution_count": 53,
   "metadata": {},
   "outputs": [],
   "source": [
    "#mask_rm = np.in1d(shape_pix, hpix)"
   ]
  },
  {
   "cell_type": "code",
   "execution_count": null,
   "metadata": {},
   "outputs": [],
   "source": []
  },
  {
   "cell_type": "markdown",
   "metadata": {},
   "source": [
    "# rm andoms"
   ]
  },
  {
   "cell_type": "code",
   "execution_count": 68,
   "metadata": {},
   "outputs": [
    {
     "data": {
      "text/plain": [
       "[u'dec', u'ra', u'weight', u'z']"
      ]
     },
     "execution_count": 68,
     "metadata": {},
     "output_type": "execute_result"
    }
   ],
   "source": [
    "mastercat['randoms']['redmagic']['combined_sample_fid'].keys()"
   ]
  },
  {
   "cell_type": "code",
   "execution_count": 69,
   "metadata": {},
   "outputs": [],
   "source": [
    "ra_rm_rand = mastercat['randoms']['redmagic']['combined_sample_fid']['ra']\n",
    "dec_rm_rand = mastercat['randoms']['redmagic']['combined_sample_fid']['dec']"
   ]
  },
  {
   "cell_type": "code",
   "execution_count": 93,
   "metadata": {},
   "outputs": [
    {
     "data": {
      "text/plain": [
       "<matplotlib.collections.PathCollection at 0x2aaaf3784050>"
      ]
     },
     "execution_count": 93,
     "metadata": {},
     "output_type": "execute_result"
    },
    {
     "data": {
      "image/png": "[encoded data removed]",
      "text/plain": [
       "<Figure size 432x288 with 1 Axes>"
      ]
     },
     "metadata": {
      "needs_background": "light"
     },
     "output_type": "display_data"
    }
   ],
   "source": [
    "plt.scatter(ra_rm_rand[1::1000], dec_rm_rand[1::1000])"
   ]
  },
  {
   "cell_type": "code",
   "execution_count": null,
   "metadata": {},
   "outputs": [],
   "source": []
  },
  {
   "cell_type": "code",
   "execution_count": 70,
   "metadata": {},
   "outputs": [],
   "source": [
    "from astropy.table import Table\n",
    "path = folder + 'data/redMagic_Y3data_randoms.fits'\n",
    "fits_f = Table()\n",
    "fits_f['RA'] = ra_rm_rand\n",
    "fits_f['DEC'] = dec_rm_rand\n",
    "fits_f.write(path)"
   ]
  },
  {
   "cell_type": "code",
   "execution_count": 64,
   "metadata": {},
   "outputs": [],
   "source": [
    "rmrandom = pf.open(folder + 'data/redMagic_Y3_randoms.fits')"
   ]
  },
  {
   "cell_type": "code",
   "execution_count": 65,
   "metadata": {},
   "outputs": [
    {
     "data": {
      "text/plain": [
       "XTENSION= 'BINTABLE'           / binary table extension                         \n",
       "BITPIX  =                    8 / array data type                                \n",
       "NAXIS   =                    2 / number of array dimensions                     \n",
       "NAXIS1  =                   16 / length of dimension 1                          \n",
       "NAXIS2  =             65656100 / length of dimension 2                          \n",
       "PCOUNT  =                    0 / number of group parameters                     \n",
       "GCOUNT  =                    1 / number of groups                               \n",
       "TFIELDS =                    2 / number of table fields                         \n",
       "TTYPE1  = 'RA      '                                                            \n",
       "TFORM1  = 'D       '                                                            \n",
       "TTYPE2  = 'DEC     '                                                            \n",
       "TFORM2  = 'D       '                                                            "
      ]
     },
     "execution_count": 65,
     "metadata": {},
     "output_type": "execute_result"
    }
   ],
   "source": [
    "rmrandom[1].header"
   ]
  },
  {
   "cell_type": "markdown",
   "metadata": {},
   "source": [
    "# Shape catalog"
   ]
  },
  {
   "cell_type": "code",
   "execution_count": 8,
   "metadata": {},
   "outputs": [],
   "source": [
    "import astropy.io.fits as pf"
   ]
  },
  {
   "cell_type": "code",
   "execution_count": 31,
   "metadata": {},
   "outputs": [
    {
     "data": {
      "text/plain": [
       "[u'PASS_WL',\n",
       " u'bhat',\n",
       " u'cell_wide',\n",
       " u'e1',\n",
       " u'e2',\n",
       " u'flux_i',\n",
       " u'flux_r',\n",
       " u'flux_z']"
      ]
     },
     "execution_count": 31,
     "metadata": {},
     "output_type": "execute_result"
    }
   ],
   "source": [
    "sompz_data['catalog/sompz']['unsheared'].keys()"
   ]
  },
  {
   "cell_type": "code",
   "execution_count": 73,
   "metadata": {},
   "outputs": [
    {
     "data": {
      "text/plain": [
       "[u'dec',\n",
       " u'id',\n",
       " u'pzdata',\n",
       " u'ra',\n",
       " u'sheared_1m',\n",
       " u'sheared_1p',\n",
       " u'sheared_2m',\n",
       " u'sheared_2p',\n",
       " u'unsheared']"
      ]
     },
     "execution_count": 73,
     "metadata": {},
     "output_type": "execute_result"
    }
   ],
   "source": [
    "sompz_data['catalog/sompz'].keys()"
   ]
  },
  {
   "cell_type": "code",
   "execution_count": 34,
   "metadata": {},
   "outputs": [
    {
     "data": {
      "text/plain": [
       "array([ 1,  1,  0, ...,  3,  0, -1])"
      ]
     },
     "execution_count": 34,
     "metadata": {},
     "output_type": "execute_result"
    }
   ],
   "source": [
    "np.array(sompz_data['catalog/sompz']['unsheared/bhat'])"
   ]
  },
  {
   "cell_type": "code",
   "execution_count": 95,
   "metadata": {},
   "outputs": [],
   "source": [
    "e1_sh = np.array(sompz_data['catalog/sompz']['unsheared']['e1'])\n",
    "e2_sh = np.array(sompz_data['catalog/sompz']['unsheared']['e2'])\n",
    "id_obj_sh =  np.array(sompz_data['catalog/sompz']['id'])\n",
    "ra_sh = np.array(sompz_data['catalog/sompz']['ra'] )                                                                                    \n",
    "dec_sh = np.array(sompz_data['catalog/sompz']['dec'])                                                                                 \n",
    "flux_i_sh = np.array(sompz_data['catalog/sompz']['unsheared']['flux_i'])\n",
    "tomo_bin = np.array(sompz_data['catalog/sompz']['unsheared/bhat'])\n",
    "# z_sh = wide[1].data['Z']\n",
    "# hpix_sh = wide[1].data['HPIX_16384']"
   ]
  },
  {
   "cell_type": "code",
   "execution_count": 96,
   "metadata": {},
   "outputs": [],
   "source": [
    "e1_sh = e1_sh.byteswap().newbyteorder()\n",
    "e2_sh = e2_sh.byteswap().newbyteorder()\n",
    "id_obj_sh = id_obj_sh.byteswap().newbyteorder()\n",
    "ra_sh = ra_sh.byteswap().newbyteorder()\n",
    "dec_sh = dec_sh.byteswap().newbyteorder()\n",
    "flux_i_sh = flux_i_sh.byteswap().newbyteorder()\n",
    "tomo_bin = tomo_bin.byteswap().newbyteorder()\n",
    "# z_sh = z_sh.byteswap().newbyteorder()\n",
    "# hpix_sh = hpix_sh.byteswap().newbyteorder()"
   ]
  },
  {
   "cell_type": "code",
   "execution_count": 97,
   "metadata": {},
   "outputs": [],
   "source": [
    "import pandas as pf\n",
    "\n",
    "e1_sh = pd.DataFrame(e1_sh)\n",
    "e2_sh = pd.DataFrame(e2_sh)\n",
    "id_obj_sh =  pd.DataFrame(id_obj_sh)                                                                          \n",
    "ra_sh = pd.DataFrame(ra_sh)\n",
    "dec_sh = pd.DataFrame(dec_sh)\n",
    "flux_i_sh = pd.DataFrame(flux_i_sh)\n",
    "tomo_bin = pd.DataFrame(tomo_bin)\n",
    "# z_sh = pd.DataFrame(z_sh)\n",
    "# hpix_sh = pd.DataFrame(hpix_sh)"
   ]
  },
  {
   "cell_type": "code",
   "execution_count": 88,
   "metadata": {},
   "outputs": [],
   "source": [
    "ind = np.random.randint(0,len(ra_sh),1000)"
   ]
  },
  {
   "cell_type": "code",
   "execution_count": 92,
   "metadata": {},
   "outputs": [
    {
     "data": {
      "text/plain": [
       "<matplotlib.collections.PathCollection at 0x2aaaf37c7090>"
      ]
     },
     "execution_count": 92,
     "metadata": {},
     "output_type": "execute_result"
    },
    {
     "data": {
      "image/png": "[encoded data removed]",
      "text/plain": [
       "<Figure size 432x288 with 1 Axes>"
      ]
     },
     "metadata": {
      "needs_background": "light"
     },
     "output_type": "display_data"
    }
   ],
   "source": [
    "plt.scatter(ra_sh[1::3000], dec_sh[1::3000])"
   ]
  },
  {
   "cell_type": "markdown",
   "metadata": {},
   "source": [
    "apply mask_flags mask and create new mask in pixel coordinates"
   ]
  },
  {
   "cell_type": "code",
   "execution_count": 10,
   "metadata": {},
   "outputs": [],
   "source": [
    "# ra_sh = wide[1].data['RA']#[#mask_wl]                                                                                                     \n",
    "# dec_sh = wide[1].data['DEC']#[#mask_wl]                                                                                                     \n"
   ]
  },
  {
   "cell_type": "code",
   "execution_count": 84,
   "metadata": {
    "collapsed": true,
    "jupyter": {
     "outputs_hidden": true
    }
   },
   "outputs": [
    {
     "ename": "ValueError",
     "evalue": "THETA is out of range [0,pi]",
     "output_type": "error",
     "traceback": [
      "\u001b[0;31m\u001b[0m",
      "\u001b[0;31mValueError\u001b[0mTraceback (most recent call last)",
      "\u001b[0;32m<ipython-input-84-69bcb451b0a9>\u001b[0m in \u001b[0;36m<module>\u001b[0;34m()\u001b[0m\n\u001b[0;32m----> 1\u001b[0;31m \u001b[0mpix_sample\u001b[0m \u001b[0;34m=\u001b[0m \u001b[0mconvert_to_pix_coord\u001b[0m\u001b[0;34m(\u001b[0m\u001b[0mra_sh\u001b[0m\u001b[0;34m,\u001b[0m \u001b[0mdec_sh\u001b[0m\u001b[0;34m,\u001b[0m\u001b[0mnside\u001b[0m\u001b[0;34m,\u001b[0m\u001b[0mnest\u001b[0m\u001b[0;34m=\u001b[0m\u001b[0mTrue\u001b[0m\u001b[0;34m)\u001b[0m\u001b[0;34m\u001b[0m\u001b[0m\n\u001b[0m\u001b[1;32m      2\u001b[0m \u001b[0;31m#mask_redmagic = load...\u001b[0m\u001b[0;34m\u001b[0m\u001b[0;34m\u001b[0m\u001b[0m\n\u001b[1;32m      3\u001b[0m \u001b[0;31m#mask_rm = np.in1d(shape_pix, hpix)\u001b[0m\u001b[0;34m\u001b[0m\u001b[0;34m\u001b[0m\u001b[0m\n\u001b[1;32m      4\u001b[0m \u001b[0mmask_rm\u001b[0m \u001b[0;34m=\u001b[0m \u001b[0mnp\u001b[0m\u001b[0;34m.\u001b[0m\u001b[0min1d\u001b[0m\u001b[0;34m(\u001b[0m\u001b[0mpix_sample\u001b[0m\u001b[0;34m,\u001b[0m\u001b[0mhpix\u001b[0m\u001b[0;34m)\u001b[0m\u001b[0;34m\u001b[0m\u001b[0m\n\u001b[1;32m      5\u001b[0m \u001b[0;31m#new_ra = ra[new_mask]\u001b[0m\u001b[0;34m\u001b[0m\u001b[0;34m\u001b[0m\u001b[0m\n",
      "\u001b[0;32m<ipython-input-66-4d96fe39772d>\u001b[0m in \u001b[0;36mconvert_to_pix_coord\u001b[0;34m(ra, dec, nside, nest)\u001b[0m\n\u001b[1;32m     11\u001b[0m     \u001b[0mtheta\u001b[0m \u001b[0;34m=\u001b[0m \u001b[0;34m(\u001b[0m\u001b[0;36m90.0\u001b[0m \u001b[0;34m-\u001b[0m \u001b[0mdec\u001b[0m\u001b[0;34m)\u001b[0m \u001b[0;34m*\u001b[0m \u001b[0mnp\u001b[0m\u001b[0;34m.\u001b[0m\u001b[0mpi\u001b[0m \u001b[0;34m/\u001b[0m \u001b[0;36m180.\u001b[0m\u001b[0;34m\u001b[0m\u001b[0m\n\u001b[1;32m     12\u001b[0m     \u001b[0mphi\u001b[0m \u001b[0;34m=\u001b[0m \u001b[0mra\u001b[0m \u001b[0;34m*\u001b[0m \u001b[0mnp\u001b[0m\u001b[0;34m.\u001b[0m\u001b[0mpi\u001b[0m \u001b[0;34m/\u001b[0m \u001b[0;36m180.\u001b[0m\u001b[0;34m\u001b[0m\u001b[0m\n\u001b[0;32m---> 13\u001b[0;31m     \u001b[0mpix\u001b[0m \u001b[0;34m=\u001b[0m \u001b[0mhp\u001b[0m\u001b[0;34m.\u001b[0m\u001b[0mang2pix\u001b[0m\u001b[0;34m(\u001b[0m\u001b[0mnside\u001b[0m\u001b[0;34m,\u001b[0m \u001b[0mtheta\u001b[0m\u001b[0;34m,\u001b[0m \u001b[0mphi\u001b[0m\u001b[0;34m,\u001b[0m \u001b[0mnest\u001b[0m\u001b[0;34m=\u001b[0m\u001b[0mnest\u001b[0m\u001b[0;34m)\u001b[0m\u001b[0;34m\u001b[0m\u001b[0m\n\u001b[0m\u001b[1;32m     14\u001b[0m \u001b[0;34m\u001b[0m\u001b[0m\n\u001b[1;32m     15\u001b[0m     \u001b[0;32mreturn\u001b[0m \u001b[0mpix\u001b[0m\u001b[0;34m\u001b[0m\u001b[0m\n",
      "\u001b[0;32m/global/homes/g/giannini/.conda/envs/py27/lib/python2.7/site-packages/healpy/pixelfunc.pyc\u001b[0m in \u001b[0;36mang2pix\u001b[0;34m(nside, theta, phi, nest, lonlat)\u001b[0m\n\u001b[1;32m    474\u001b[0m     \u001b[0;32mif\u001b[0m \u001b[0mlonlat\u001b[0m\u001b[0;34m:\u001b[0m\u001b[0;34m\u001b[0m\u001b[0m\n\u001b[1;32m    475\u001b[0m         \u001b[0mtheta\u001b[0m\u001b[0;34m,\u001b[0m \u001b[0mphi\u001b[0m \u001b[0;34m=\u001b[0m \u001b[0mlonlat2thetaphi\u001b[0m\u001b[0;34m(\u001b[0m\u001b[0mtheta\u001b[0m\u001b[0;34m,\u001b[0m \u001b[0mphi\u001b[0m\u001b[0;34m)\u001b[0m\u001b[0;34m\u001b[0m\u001b[0m\n\u001b[0;32m--> 476\u001b[0;31m     \u001b[0mcheck_theta_valid\u001b[0m\u001b[0;34m(\u001b[0m\u001b[0mtheta\u001b[0m\u001b[0;34m)\u001b[0m\u001b[0;34m\u001b[0m\u001b[0m\n\u001b[0m\u001b[1;32m    477\u001b[0m     \u001b[0mcheck_nside\u001b[0m\u001b[0;34m(\u001b[0m\u001b[0mnside\u001b[0m\u001b[0;34m,\u001b[0m \u001b[0mnest\u001b[0m\u001b[0;34m=\u001b[0m\u001b[0mnest\u001b[0m\u001b[0;34m)\u001b[0m\u001b[0;34m\u001b[0m\u001b[0m\n\u001b[1;32m    478\u001b[0m     \u001b[0;32mif\u001b[0m \u001b[0mnest\u001b[0m\u001b[0;34m:\u001b[0m\u001b[0;34m\u001b[0m\u001b[0m\n",
      "\u001b[0;32m/global/homes/g/giannini/.conda/envs/py27/lib/python2.7/site-packages/healpy/pixelfunc.pyc\u001b[0m in \u001b[0;36mcheck_theta_valid\u001b[0;34m(theta)\u001b[0m\n\u001b[1;32m    154\u001b[0m     \u001b[0mtheta\u001b[0m \u001b[0;34m=\u001b[0m \u001b[0mnp\u001b[0m\u001b[0;34m.\u001b[0m\u001b[0masarray\u001b[0m\u001b[0;34m(\u001b[0m\u001b[0mtheta\u001b[0m\u001b[0;34m)\u001b[0m\u001b[0;34m\u001b[0m\u001b[0m\n\u001b[1;32m    155\u001b[0m     \u001b[0;32mif\u001b[0m \u001b[0;32mnot\u001b[0m \u001b[0;34m(\u001b[0m\u001b[0;34m(\u001b[0m\u001b[0mtheta\u001b[0m \u001b[0;34m>=\u001b[0m \u001b[0;36m0\u001b[0m\u001b[0;34m)\u001b[0m\u001b[0;34m.\u001b[0m\u001b[0mall\u001b[0m\u001b[0;34m(\u001b[0m\u001b[0;34m)\u001b[0m \u001b[0;32mand\u001b[0m \u001b[0;34m(\u001b[0m\u001b[0mtheta\u001b[0m \u001b[0;34m<=\u001b[0m \u001b[0mnp\u001b[0m\u001b[0;34m.\u001b[0m\u001b[0mpi\u001b[0m \u001b[0;34m+\u001b[0m \u001b[0;36m1e-5\u001b[0m\u001b[0;34m)\u001b[0m\u001b[0;34m.\u001b[0m\u001b[0mall\u001b[0m\u001b[0;34m(\u001b[0m\u001b[0;34m)\u001b[0m\u001b[0;34m)\u001b[0m\u001b[0;34m:\u001b[0m\u001b[0;34m\u001b[0m\u001b[0m\n\u001b[0;32m--> 156\u001b[0;31m         \u001b[0;32mraise\u001b[0m \u001b[0mValueError\u001b[0m\u001b[0;34m(\u001b[0m\u001b[0;34m\"THETA is out of range [0,pi]\"\u001b[0m\u001b[0;34m)\u001b[0m\u001b[0;34m\u001b[0m\u001b[0m\n\u001b[0m\u001b[1;32m    157\u001b[0m \u001b[0;34m\u001b[0m\u001b[0m\n\u001b[1;32m    158\u001b[0m \u001b[0;34m\u001b[0m\u001b[0m\n",
      "\u001b[0;31mValueError\u001b[0m: THETA is out of range [0,pi]"
     ]
    }
   ],
   "source": [
    "pix_sample = convert_to_pix_coord(ra_sh, dec_sh,nside,nest=True)\n",
    "#mask_redmagic = load...\n",
    "#mask_rm = np.in1d(shape_pix, hpix)\n",
    "mask_rm = np.in1d(pix_sample,hpix)\n",
    "#new_ra = ra[new_mask]"
   ]
  },
  {
   "cell_type": "code",
   "execution_count": 78,
   "metadata": {},
   "outputs": [],
   "source": [
    "# from astropy.table import Table\n",
    "# # folder = \"/global/cscratch1/sd/giannini/clusteringz/wz/data/\"\n",
    "# path = folder + 'data/shape_Y3.fits'\n",
    "# fits_f = Table()\n",
    "# fits_f['ra'] = ra_sh[mask_rm]\n",
    "# fits_f['dec'] = dec_sh[mask_rm]\n",
    "# fits_f['e1'] = e1_sh[mask_rm]\n",
    "# fits_f['e2'] = e2_sh[mask_rm]\n",
    "# fits_f['z'] = z_sh[mask_rm]\n",
    "# fits_f['tomo_bin'] = tomo_bin[mask_rm]\n",
    "# fits_f['id_obj'] = id_obj_sh[mask_rm]\n",
    "# fits_f['flux_i'] = flux_i_sh[mask_rm]\n",
    "# fits_f.write(path)"
   ]
  },
  {
   "cell_type": "code",
   "execution_count": 111,
   "metadata": {},
   "outputs": [],
   "source": [
    "from astropy.table import Table\n",
    "# folder = \"/global/cscratch1/sd/giannini/clusteringz/wz/data/\"\n",
    "path = folder + 'data/shape_Y3data.fits'\n",
    "fits_f = Table()\n",
    "fits_f['ra'] = ra_sh\n",
    "fits_f['dec'] = dec_sh\n",
    "fits_f['e1'] = e1_sh\n",
    "fits_f['e2'] = e2_sh\n",
    "fits_f['tomo_bin'] = tomo_bin\n",
    "fits_f['id_obj'] = id_obj_sh\n",
    "fits_f['flux_i'] = flux_i_sh\n",
    "fits_f.write(path)"
   ]
  },
  {
   "cell_type": "code",
   "execution_count": 100,
   "metadata": {},
   "outputs": [],
   "source": [
    "from astropy.table import Table\n",
    "# folder = \"/global/cscratch1/sd/giannini/clusteringz/wz/data/\"\n",
    "tbins = 4\n",
    "for t in range(tbins):\n",
    "    mask_tbin = tomo_bin == t\n",
    "    path = folder + 'data/shape_Y3data_tbin{0}.fits'.format(t)\n",
    "    fits_f = Table()\n",
    "    fits_f['ra'] = ra_sh[mask_tbin]\n",
    "    fits_f['dec'] = dec_sh[mask_tbin]\n",
    "    fits_f['e1'] = e1_sh[mask_tbin]\n",
    "    fits_f['e2'] = e2_sh[mask_tbin]\n",
    "    fits_f['tomo_bin'] = tomo_bin[mask_tbin]\n",
    "    fits_f['id_obj'] = id_obj_sh[mask_tbin]\n",
    "    fits_f['flux_i'] = flux_i_sh[mask_tbin]\n",
    "    fits_f.write(path)"
   ]
  },
  {
   "cell_type": "code",
   "execution_count": 101,
   "metadata": {},
   "outputs": [],
   "source": [
    "import astropy.io.fits as pf\n",
    "\n",
    "meow = pf.open(folder + 'data/shape_Y3data_tbin1.fits')\n",
    "ra_meow = meow[1].data['ra']\n",
    "dec_meow = meow[1].data['dec']"
   ]
  },
  {
   "cell_type": "code",
   "execution_count": 74,
   "metadata": {},
   "outputs": [],
   "source": [
    "mute = pf.open(\"/global/cscratch1/sd/giannini/clusteringz/wz_Y3buzzard_w/data/shape_Y3_randoms_small.fits\")"
   ]
  },
  {
   "cell_type": "code",
   "execution_count": 75,
   "metadata": {},
   "outputs": [
    {
     "data": {
      "text/plain": [
       "XTENSION= 'BINTABLE'           / binary table extension                         \n",
       "BITPIX  =                    8 / array data type                                \n",
       "NAXIS   =                    2 / number of array dimensions                     \n",
       "NAXIS1  =                   16 / length of dimension 1                          \n",
       "NAXIS2  =            127058308 / length of dimension 2                          \n",
       "PCOUNT  =                    0 / number of group parameters                     \n",
       "GCOUNT  =                    1 / number of groups                               \n",
       "TFIELDS =                    2 / number of table fields                         \n",
       "TTYPE1  = 'ra      '                                                            \n",
       "TFORM1  = 'D       '                                                            \n",
       "TTYPE2  = 'dec     '                                                            \n",
       "TFORM2  = 'D       '                                                            "
      ]
     },
     "execution_count": 75,
     "metadata": {},
     "output_type": "execute_result"
    }
   ],
   "source": [
    "mute[1].header"
   ]
  },
  {
   "cell_type": "code",
   "execution_count": 109,
   "metadata": {},
   "outputs": [],
   "source": [
    "ind = np.random.randint(0,len(meow[1].data['ra']),5000)"
   ]
  },
  {
   "cell_type": "code",
   "execution_count": 110,
   "metadata": {},
   "outputs": [
    {
     "ename": "KeyboardInterrupt",
     "evalue": "",
     "output_type": "error",
     "traceback": [
      "\u001b[0;31m\u001b[0m",
      "\u001b[0;31mKeyboardInterrupt\u001b[0mTraceback (most recent call last)",
      "\u001b[0;32m<ipython-input-110-2630347c32a9>\u001b[0m in \u001b[0;36m<module>\u001b[0;34m()\u001b[0m\n\u001b[0;32m----> 1\u001b[0;31m \u001b[0mplt\u001b[0m\u001b[0;34m.\u001b[0m\u001b[0mscatter\u001b[0m\u001b[0;34m(\u001b[0m\u001b[0mra_meow\u001b[0m\u001b[0;34m[\u001b[0m\u001b[0mind\u001b[0m\u001b[0;34m]\u001b[0m\u001b[0;34m,\u001b[0m\u001b[0;34m(\u001b[0m\u001b[0mdec_meow\u001b[0m\u001b[0;34m[\u001b[0m\u001b[0mind\u001b[0m\u001b[0;34m]\u001b[0m\u001b[0;34m)\u001b[0m\u001b[0;34m)\u001b[0m\u001b[0;34m\u001b[0m\u001b[0m\n\u001b[0m",
      "\u001b[0;31mKeyboardInterrupt\u001b[0m: "
     ]
    }
   ],
   "source": [
    "plt.scatter(ra_meow[ind],(dec_meow[ind]))"
   ]
  },
  {
   "cell_type": "code",
   "execution_count": 37,
   "metadata": {},
   "outputs": [
    {
     "data": {
      "text/plain": [
       "array([1, 1, 1, ..., 0, 0, 3])"
      ]
     },
     "execution_count": 37,
     "metadata": {},
     "output_type": "execute_result"
    }
   ],
   "source": [
    "meow[1].data['tomo_bin']"
   ]
  },
  {
   "cell_type": "markdown",
   "metadata": {},
   "source": [
    "### SHAPE RANDOMS"
   ]
  },
  {
   "cell_type": "code",
   "execution_count": 3,
   "metadata": {},
   "outputs": [],
   "source": [
    "# nside = 1024\n",
    "# Ngen = 5*len(ra_sh[mask_rm])\n",
    "\n",
    "# ra_field = ra_sh[mask_rm]\n",
    "# dec_field =  dec_sh[mask_rm]\n",
    "\n",
    "# minra = min(ra_field)\n",
    "# maxra = max(ra_field)\n",
    "# mindec = min(dec_field)\n",
    "# maxdec = max(dec_field)\n",
    "# pix = convert_to_pix_coord(ra_field ,dec_field,nside)\n",
    "# upix = np.unique(pix)\n",
    "# #mask = np.zeros(hp.nside2npix(nside))\n",
    "\n",
    "# # create randoms:\n",
    "\n",
    "# ra_random,dec_random = generate_randoms_radec(minra, maxra, mindec, maxdec, Ngen, raoffset=0)\n",
    "# pix_random =  convert_to_pix_coord(ra_random,dec_random,nside)\n",
    "# new_mask = np.in1d(pix_random,upix)\n",
    "# ra_random = ra_random[new_mask]\n",
    "# dec_random = dec_random[new_mask]\n"
   ]
  },
  {
   "cell_type": "code",
   "execution_count": 1,
   "metadata": {},
   "outputs": [],
   "source": [
    "# from astropy.table import Table\n",
    "# path = folder + 'data/shape_Y3_randoms.fits'\n",
    "# #path = '../data/shape_y1_rMmask_randoms.fits'\n",
    "# fits_f = Table()\n",
    "# fits_f['ra'] = ra_random #_rndm\n",
    "# fits_f['dec'] = dec_random #_rndm\n",
    "# fits_f.write(path)"
   ]
  },
  {
   "cell_type": "code",
   "execution_count": 30,
   "metadata": {},
   "outputs": [],
   "source": [
    "nside = 1024\n",
    "Ngen = len(ra_sh[mask_rm])\n",
    "\n",
    "ra_field = ra_sh[mask_rm]\n",
    "dec_field =  dec_sh[mask_rm]\n",
    "\n",
    "minra = min(ra_field)\n",
    "maxra = max(ra_field)\n",
    "mindec = min(dec_field)\n",
    "maxdec = max(dec_field)\n",
    "pix = convert_to_pix_coord(ra_field ,dec_field,nside)\n",
    "upix = np.unique(pix)\n",
    "#mask = np.zeros(hp.nside2npix(nside))\n",
    "\n",
    "# create randoms:\n",
    "\n",
    "ra_random,dec_random = generate_randoms_radec(minra, maxra, mindec, maxdec, Ngen, raoffset=0)\n",
    "pix_random =  convert_to_pix_coord(ra_random,dec_random,nside)\n",
    "new_mask = np.in1d(pix_random,upix)\n",
    "ra_random = ra_random[new_mask]\n",
    "dec_random = dec_random[new_mask]\n"
   ]
  },
  {
   "cell_type": "code",
   "execution_count": 31,
   "metadata": {},
   "outputs": [],
   "source": [
    "from astropy.table import Table\n",
    "path = folder + 'data/shape_Y3_randoms_small.fits'\n",
    "#path = '../data/shape_y1_rMmask_randoms.fits'\n",
    "fits_f = Table()\n",
    "fits_f['ra'] = ra_random #_rndm\n",
    "fits_f['dec'] = dec_random #_rndm\n",
    "fits_f.write(path)"
   ]
  },
  {
   "cell_type": "code",
   "execution_count": 32,
   "metadata": {},
   "outputs": [
    {
     "data": {
      "text/plain": [
       "XTENSION= 'BINTABLE'           / binary table extension                         \n",
       "BITPIX  =                    8 / array data type                                \n",
       "NAXIS   =                    2 / number of array dimensions                     \n",
       "NAXIS1  =                   16 / length of dimension 1                          \n",
       "NAXIS2  =            145136036 / length of dimension 2                          \n",
       "PCOUNT  =                    0 / number of group parameters                     \n",
       "GCOUNT  =                    1 / number of groups                               \n",
       "TFIELDS =                    2 / number of table fields                         \n",
       "TTYPE1  = 'ra      '                                                            \n",
       "TFORM1  = 'D       '                                                            \n",
       "TTYPE2  = 'dec     '                                                            \n",
       "TFORM2  = 'D       '                                                            "
      ]
     },
     "execution_count": 32,
     "metadata": {},
     "output_type": "execute_result"
    }
   ],
   "source": [
    "import astropy.io.fits as pf\n",
    "\n",
    "meowww = pf.open(folder + 'data/shape_Y3_randoms.fits')\n",
    "meowww[1].header"
   ]
  },
  {
   "cell_type": "code",
   "execution_count": 69,
   "metadata": {},
   "outputs": [
    {
     "data": {
      "text/plain": [
       "131312200"
      ]
     },
     "execution_count": 69,
     "metadata": {},
     "output_type": "execute_result"
    }
   ],
   "source": [
    "65656100*2"
   ]
  },
  {
   "cell_type": "code",
   "execution_count": 33,
   "metadata": {},
   "outputs": [],
   "source": [
    "ind = np.random.randint(0,len(meowww[1].data['ra']),1000)"
   ]
  },
  {
   "cell_type": "code",
   "execution_count": 34,
   "metadata": {},
   "outputs": [
    {
     "data": {
      "text/plain": [
       "<matplotlib.collections.PathCollection at 0x2aaaf802f410>"
      ]
     },
     "execution_count": 34,
     "metadata": {},
     "output_type": "execute_result"
    },
    {
     "data": {
      "image/png": "[encoded data removed]",
      "text/plain": [
       "<Figure size 432x288 with 1 Axes>"
      ]
     },
     "metadata": {
      "needs_background": "light"
     },
     "output_type": "display_data"
    }
   ],
   "source": [
    "plt.scatter((meowww[1].data['ra'])[ind],(meowww[1].data['dec'][ind]))"
   ]
  },
  {
   "cell_type": "code",
   "execution_count": null,
   "metadata": {},
   "outputs": [],
   "source": []
  },
  {
   "cell_type": "code",
   "execution_count": 41,
   "metadata": {},
   "outputs": [
    {
     "data": {
      "text/plain": [
       "21448175"
      ]
     },
     "execution_count": 41,
     "metadata": {},
     "output_type": "execute_result"
    }
   ],
   "source": [
    "import pyfits as pf\n",
    "mute = pf.open(\"/global/cscratch1/sd/giannini/clusteringz/wz_Y3buzzard_truez/data/shape_Y3.fits\")\n",
    "len"
   ]
  },
  {
   "cell_type": "code",
   "execution_count": null,
   "metadata": {},
   "outputs": [],
   "source": []
  },
  {
   "cell_type": "markdown",
   "metadata": {},
   "source": [
    "# eBOSS"
   ]
  },
  {
   "cell_type": "code",
   "execution_count": 4,
   "metadata": {},
   "outputs": [],
   "source": [
    "import astropy.io.fits as pf\n",
    "eboss = pf.open(\"/global/cscratch1/sd/giannini/clusteringz/Y3data/data/eBOSS_BOSS_all5_v7nov19_y3cuts_totweight.fits\")\n"
   ]
  },
  {
   "cell_type": "code",
   "execution_count": 6,
   "metadata": {},
   "outputs": [
    {
     "data": {
      "text/plain": [
       "XTENSION= 'BINTABLE'           / binary table extension                         \n",
       "BITPIX  =                    8 / array data type                                \n",
       "NAXIS   =                    2 / number of array dimensions                     \n",
       "NAXIS1  =                   36 / length of dimension 1                          \n",
       "NAXIS2  =               280869 / length of dimension 2                          \n",
       "PCOUNT  =                    0 / number of group parameters                     \n",
       "GCOUNT  =                    1 / number of groups                               \n",
       "TFIELDS =                    9 / number of table fields                         \n",
       "TTYPE1  = 'RA      '                                                            \n",
       "TFORM1  = 'E       '                                                            \n",
       "TTYPE2  = 'DEC     '                                                            \n",
       "TFORM2  = 'E       '                                                            \n",
       "TTYPE3  = 'Z       '                                                            \n",
       "TFORM3  = 'E       '                                                            \n",
       "TTYPE4  = 'WEIGHT_FKP_EBOSS'                                                    \n",
       "TFORM4  = 'E       '                                                            \n",
       "TTYPE5  = 'WEIGHT_SYSTOT'                                                       \n",
       "TFORM5  = 'E       '                                                            \n",
       "TTYPE6  = 'WEIGHT_CP'                                                           \n",
       "TFORM6  = 'E       '                                                            \n",
       "TTYPE7  = 'WEIGHT_NOZ'                                                          \n",
       "TFORM7  = 'E       '                                                            \n",
       "TTYPE8  = 'NZ      '                                                            \n",
       "TFORM8  = 'E       '                                                            \n",
       "TTYPE9  = 'TOT_WEIGHT_RC'                                                       \n",
       "TFORM9  = 'E       '                                                            "
      ]
     },
     "execution_count": 6,
     "metadata": {},
     "output_type": "execute_result"
    }
   ],
   "source": [
    "eboss[1].header"
   ]
  },
  {
   "cell_type": "code",
   "execution_count": 5,
   "metadata": {},
   "outputs": [],
   "source": [
    "import numpy as np\n",
    "ind = np.random.randint(0,len(eboss[1].data['RA']),1000)"
   ]
  },
  {
   "cell_type": "code",
   "execution_count": 6,
   "metadata": {},
   "outputs": [
    {
     "data": {
      "text/plain": [
       "<matplotlib.collections.PathCollection at 0x2aaae47ab890>"
      ]
     },
     "execution_count": 6,
     "metadata": {},
     "output_type": "execute_result"
    },
    {
     "data": {
      "image/png": "[encoded data removed]",
      "text/plain": [
       "<Figure size 432x288 with 1 Axes>"
      ]
     },
     "metadata": {
      "needs_background": "light"
     },
     "output_type": "display_data"
    }
   ],
   "source": [
    "import matplotlib.pyplot as plt\n",
    "plt.scatter((eboss[1].data['RA'])[ind],(eboss[1].data['DEC'])[ind])"
   ]
  },
  {
   "cell_type": "code",
   "execution_count": 7,
   "metadata": {},
   "outputs": [],
   "source": [
    "eboss_rdm = pf.open(\"/global/cscratch1/sd/giannini/clusteringz/Y3data/data/eBOSS_BOSS_all5_v7nov19_y3cuts_totweight_randoms.fits\")\n"
   ]
  },
  {
   "cell_type": "code",
   "execution_count": 9,
   "metadata": {},
   "outputs": [
    {
     "data": {
      "text/plain": [
       "XTENSION= 'BINTABLE'           / binary table extension                         \n",
       "BITPIX  =                    8 / array data type                                \n",
       "NAXIS   =                    2 / number of array dimensions                     \n",
       "NAXIS1  =                   36 / length of dimension 1                          \n",
       "NAXIS2  =             11874466 / length of dimension 2                          \n",
       "PCOUNT  =                    0 / number of group parameters                     \n",
       "GCOUNT  =                    1 / number of groups                               \n",
       "TFIELDS =                    9 / number of table fields                         \n",
       "TTYPE1  = 'RA      '                                                            \n",
       "TFORM1  = 'E       '                                                            \n",
       "TTYPE2  = 'DEC     '                                                            \n",
       "TFORM2  = 'E       '                                                            \n",
       "TTYPE3  = 'Z       '                                                            \n",
       "TFORM3  = 'E       '                                                            \n",
       "TTYPE4  = 'WEIGHT_FKP_EBOSS'                                                    \n",
       "TFORM4  = 'E       '                                                            \n",
       "TTYPE5  = 'WEIGHT_SYSTOT'                                                       \n",
       "TFORM5  = 'E       '                                                            \n",
       "TTYPE6  = 'WEIGHT_CP'                                                           \n",
       "TFORM6  = 'E       '                                                            \n",
       "TTYPE7  = 'WEIGHT_NOZ'                                                          \n",
       "TFORM7  = 'E       '                                                            \n",
       "TTYPE8  = 'NZ      '                                                            \n",
       "TFORM8  = 'E       '                                                            \n",
       "TTYPE9  = 'TOT_WEIGHT_RC'                                                       \n",
       "TFORM9  = 'E       '                                                            "
      ]
     },
     "execution_count": 9,
     "metadata": {},
     "output_type": "execute_result"
    }
   ],
   "source": [
    "eboss_rdm[1].header"
   ]
  },
  {
   "cell_type": "code",
   "execution_count": 8,
   "metadata": {},
   "outputs": [],
   "source": [
    "ra_eboss = eboss[1].data['RA']\n",
    "dec_eboss = eboss[1].data['DEC']\n"
   ]
  },
  {
   "cell_type": "code",
   "execution_count": 9,
   "metadata": {},
   "outputs": [],
   "source": [
    "folder = \"/global/cscratch1/sd/giannini/clusteringz/Y3data/\"\n",
    "path = folder + 'data/shape_Y3data.fits'\n",
    "\n",
    "shape = pf.open(path)"
   ]
  },
  {
   "cell_type": "code",
   "execution_count": 19,
   "metadata": {},
   "outputs": [
    {
     "data": {
      "text/plain": [
       "XTENSION= 'BINTABLE'           / binary table extension                         \n",
       "BITPIX  =                    8 / array data type                                \n",
       "NAXIS   =                    2 / number of array dimensions                     \n",
       "NAXIS1  =                   56 / length of dimension 1                          \n",
       "NAXIS2  =            112949666 / length of dimension 2                          \n",
       "PCOUNT  =                    0 / number of group parameters                     \n",
       "GCOUNT  =                    1 / number of groups                               \n",
       "TFIELDS =                    7 / number of table fields                         \n",
       "TTYPE1  = 'ra      '                                                            \n",
       "TFORM1  = 'D       '                                                            \n",
       "TTYPE2  = 'dec     '                                                            \n",
       "TFORM2  = 'D       '                                                            \n",
       "TTYPE3  = 'e1      '                                                            \n",
       "TFORM3  = 'D       '                                                            \n",
       "TTYPE4  = 'e2      '                                                            \n",
       "TFORM4  = 'D       '                                                            \n",
       "TTYPE5  = 'tomo_bin'                                                            \n",
       "TFORM5  = 'K       '                                                            \n",
       "TTYPE6  = 'id_obj  '                                                            \n",
       "TFORM6  = 'K       '                                                            \n",
       "TTYPE7  = 'flux_i  '                                                            \n",
       "TFORM7  = 'D       '                                                            "
      ]
     },
     "execution_count": 19,
     "metadata": {},
     "output_type": "execute_result"
    }
   ],
   "source": [
    "shape[1].header"
   ]
  },
  {
   "cell_type": "code",
   "execution_count": 1,
   "metadata": {},
   "outputs": [],
   "source": [
    "import astropy.io.fits as pf\n",
    "miau = pf.open('/global/cscratch1/sd/giannini/clusteringz/Y3data/data/eBOSS_BOSS_all5_v7nov19_y3cuts_totweight.fits')"
   ]
  },
  {
   "cell_type": "code",
   "execution_count": 2,
   "metadata": {},
   "outputs": [
    {
     "data": {
      "text/plain": [
       "XTENSION= 'BINTABLE'           / binary table extension                         \n",
       "BITPIX  =                    8 / array data type                                \n",
       "NAXIS   =                    2 / number of array dimensions                     \n",
       "NAXIS1  =                   36 / length of dimension 1                          \n",
       "NAXIS2  =               280869 / length of dimension 2                          \n",
       "PCOUNT  =                    0 / number of group parameters                     \n",
       "GCOUNT  =                    1 / number of groups                               \n",
       "TFIELDS =                    9 / number of table fields                         \n",
       "TTYPE1  = 'RA      '                                                            \n",
       "TFORM1  = 'E       '                                                            \n",
       "TTYPE2  = 'DEC     '                                                            \n",
       "TFORM2  = 'E       '                                                            \n",
       "TTYPE3  = 'Z       '                                                            \n",
       "TFORM3  = 'E       '                                                            \n",
       "TTYPE4  = 'WEIGHT_FKP_EBOSS'                                                    \n",
       "TFORM4  = 'E       '                                                            \n",
       "TTYPE5  = 'WEIGHT_SYSTOT'                                                       \n",
       "TFORM5  = 'E       '                                                            \n",
       "TTYPE6  = 'WEIGHT_CP'                                                           \n",
       "TFORM6  = 'E       '                                                            \n",
       "TTYPE7  = 'WEIGHT_NOZ'                                                          \n",
       "TFORM7  = 'E       '                                                            \n",
       "TTYPE8  = 'NZ      '                                                            \n",
       "TFORM8  = 'E       '                                                            \n",
       "TTYPE9  = 'TOT_WEIGHT_RC'                                                       \n",
       "TFORM9  = 'E       '                                                            "
      ]
     },
     "execution_count": 2,
     "metadata": {},
     "output_type": "execute_result"
    }
   ],
   "source": [
    "miau[1].header"
   ]
  },
  {
   "cell_type": "code",
   "execution_count": 5,
   "metadata": {},
   "outputs": [
    {
     "data": {
      "text/plain": [
       "(array([13260., 34263., 71817., 86281., 36359.,  7877.,  8558.,  8395.,\n",
       "         7891.,  6168.]),\n",
       " array([-1.3758999e-04,  2.1987438e-01,  4.3988636e-01,  6.5989834e-01,\n",
       "         8.7991029e-01,  1.0999223e+00,  1.3199342e+00,  1.5399462e+00,\n",
       "         1.7599583e+00,  1.9799702e+00,  2.1999822e+00], dtype=float32),\n",
       " <a list of 10 Patch objects>)"
      ]
     },
     "execution_count": 5,
     "metadata": {},
     "output_type": "execute_result"
    },
    {
     "data": {
      "image/png": "[encoded data removed]",
      "text/plain": [
       "<Figure size 432x288 with 1 Axes>"
      ]
     },
     "metadata": {
      "needs_background": "light"
     },
     "output_type": "display_data"
    }
   ],
   "source": [
    "import matplotlib.pyplot as plt\n",
    "plt.hist(miau[1].data['Z'])"
   ]
  },
  {
   "cell_type": "code",
   "execution_count": 10,
   "metadata": {},
   "outputs": [],
   "source": [
    "%matplotlib inline\n",
    "import healpy as hp\n",
    "import numpy as np\n",
    "import matplotlib.pyplot as plt\n",
    "\n",
    "def convert_to_pix_coord(ra, dec, nside=1024,nest=False):\n",
    "    \"\"\"\n",
    "    Converts RA,DEC to hpix coordinates\n",
    "    \"\"\"\n",
    "\n",
    "    theta = (90.0 - dec) * np.pi / 180.\n",
    "    #print theta\n",
    "    phi = ra * np.pi / 180.\n",
    "    pix = hp.ang2pix(nside, theta, phi, nest=nest)\n",
    "\n",
    "    return pix\n",
    "\n",
    "def IndexToDeclRa(index, nside=1024,nest= False):\n",
    "    theta,phi=hp.pixelfunc.pix2ang(nside ,index,nest=nest)\n",
    "    return -np.degrees(theta-np.pi/2.),np.degrees(phi)\n",
    "\n",
    "def generate_randoms_radec(minra, maxra, mindec, maxdec, Ngen, raoffset=0):\n",
    "    r = 1.0\n",
    "    # this z is not redshift!\n",
    "    zmin = r * np.sin(np.pi * mindec / 180.)\n",
    "    zmax = r * np.sin(np.pi * maxdec / 180.)\n",
    "   \n",
    "    # parity transform from usual, but let's not worry about that\n",
    "    phimin = np.pi / 180. * (minra - 180 + raoffset)\n",
    "    phimax = np.pi / 180. * (maxra - 180 + raoffset)\n",
    "   \n",
    "    # generate ra and dec\n",
    "    z_coord = np.random.uniform(zmin, zmax, Ngen)  # not redshift!\n",
    "    phi = np.random.uniform(phimin, phimax, Ngen)\n",
    "    dec_rad = np.arcsin(z_coord / r)\n",
    "   \n",
    "    # convert to ra and dec\n",
    "    ra = phi * 180 / np.pi + 180 - raoffset\n",
    "    dec = dec_rad * 180 / np.pi\n",
    "    return ra, dec\n",
    "\n",
    "\n"
   ]
  },
  {
   "cell_type": "code",
   "execution_count": 34,
   "metadata": {},
   "outputs": [
    {
     "name": "stdout",
     "output_type": "stream",
     "text": [
      "3020759\n",
      "3020759\n"
     ]
    }
   ],
   "source": [
    "print len(ra_shape[np.isnan(ra_shape)])\n",
    "print len(dec_shape[np.isnan(dec_shape)])"
   ]
  },
  {
   "cell_type": "code",
   "execution_count": 41,
   "metadata": {},
   "outputs": [
    {
     "data": {
      "text/plain": [
       "112949666"
      ]
     },
     "execution_count": 41,
     "metadata": {},
     "output_type": "execute_result"
    }
   ],
   "source": [
    "len(ra_shape)"
   ]
  },
  {
   "cell_type": "code",
   "execution_count": 11,
   "metadata": {},
   "outputs": [],
   "source": [
    "import pandas as pd"
   ]
  },
  {
   "cell_type": "code",
   "execution_count": 12,
   "metadata": {},
   "outputs": [],
   "source": [
    "ra_sh = shape[1].data['ra']\n",
    "dec_sh = shape[1].data['dec']\n",
    "e1_sh = shape[1].data['e1']\n",
    "e2_sh = shape[1].data['e2']\n",
    "tomo_bin_sh = shape[1].data['tomo_bin']\n",
    "id_obj_sh = shape[1].data['id_obj']\n",
    "flux_i_sh = shape[1].data['flux_i']"
   ]
  },
  {
   "cell_type": "code",
   "execution_count": 13,
   "metadata": {},
   "outputs": [
    {
     "ename": "NameError",
     "evalue": "name 'flux_' is not defined",
     "output_type": "error",
     "traceback": [
      "\u001b[0;31m\u001b[0m",
      "\u001b[0;31mNameError\u001b[0mTraceback (most recent call last)",
      "\u001b[0;32m<ipython-input-13-b62347a4c9e0>\u001b[0m in \u001b[0;36m<module>\u001b[0;34m()\u001b[0m\n\u001b[1;32m      5\u001b[0m \u001b[0mtomo_bin_shape_sw\u001b[0m \u001b[0;34m=\u001b[0m \u001b[0mtomo_bin_sh\u001b[0m\u001b[0;34m.\u001b[0m\u001b[0mbyteswap\u001b[0m\u001b[0;34m(\u001b[0m\u001b[0;34m)\u001b[0m\u001b[0;34m.\u001b[0m\u001b[0mnewbyteorder\u001b[0m\u001b[0;34m(\u001b[0m\u001b[0;34m)\u001b[0m\u001b[0;34m\u001b[0m\u001b[0m\n\u001b[1;32m      6\u001b[0m \u001b[0mid_obj_shape_sw\u001b[0m \u001b[0;34m=\u001b[0m \u001b[0mid_obj_sh\u001b[0m\u001b[0;34m.\u001b[0m\u001b[0mbyteswap\u001b[0m\u001b[0;34m(\u001b[0m\u001b[0;34m)\u001b[0m\u001b[0;34m.\u001b[0m\u001b[0mnewbyteorder\u001b[0m\u001b[0;34m(\u001b[0m\u001b[0;34m)\u001b[0m\u001b[0;34m\u001b[0m\u001b[0m\n\u001b[0;32m----> 7\u001b[0;31m \u001b[0mflux_i_shape_sw\u001b[0m \u001b[0;34m=\u001b[0m \u001b[0mflux_\u001b[0m\u001b[0;34m.\u001b[0m\u001b[0mbyteswap\u001b[0m\u001b[0;34m(\u001b[0m\u001b[0;34m)\u001b[0m\u001b[0;34m.\u001b[0m\u001b[0mnewbyteorder\u001b[0m\u001b[0;34m(\u001b[0m\u001b[0;34m)\u001b[0m\u001b[0;34m\u001b[0m\u001b[0m\n\u001b[0m",
      "\u001b[0;31mNameError\u001b[0m: name 'flux_' is not defined"
     ]
    }
   ],
   "source": [
    "ra_shape_sw = ra_sh.byteswap().newbyteorder()\n",
    "dec_shape_sw = dec_sh.byteswap().newbyteorder()\n",
    "e1_shape_sw = e1_sh.byteswap().newbyteorder()\n",
    "e2_shape_sw = e2_sh.byteswap().newbyteorder()\n",
    "tomo_bin_shape_sw = tomo_bin_sh.byteswap().newbyteorder()\n",
    "id_obj_shape_sw = id_obj_sh.byteswap().newbyteorder()\n",
    "flux_i_shape_sw = flux_i_sh.byteswap().newbyteorder()"
   ]
  },
  {
   "cell_type": "code",
   "execution_count": 17,
   "metadata": {},
   "outputs": [],
   "source": [
    "ra_shape_pd = pd.DataFrame(ra_shape_sw)\n",
    "dec_shape_pd = pd.DataFrame(dec_shape_sw)\n",
    "e1_shape_pd = pd.DataFrame(e1_shape_sw)\n",
    "e2_shape_pd = pd.DataFrame(e2_shape_sw)\n",
    "tomo_bin_shape_pd = pd.DataFrame(tomo_bin_shape_sw)\n",
    "id_obj_shape_pd = pd.DataFrame(id_obj_shape_sw)\n",
    "flux_i_shape_pd = pd.DataFrame(flux_i_shape_sw)"
   ]
  },
  {
   "cell_type": "code",
   "execution_count": 20,
   "metadata": {},
   "outputs": [],
   "source": [
    "ra_shape_nonan = ra_shape_pd.dropna()\n",
    "dec_shape_nonan = dec_shape_pd.dropna()\n",
    "e1_shape_nonan = e1_shape_pd.dropna()\n",
    "e2_shape_nonan = e2_shape_pd.dropna()\n",
    "\n",
    "flux_i_shape_nonan = flux_i_shape_pd.dropna()"
   ]
  },
  {
   "cell_type": "code",
   "execution_count": 28,
   "metadata": {},
   "outputs": [],
   "source": [
    "tomo_bin_shape_nonan = tomo_bin_shape_pd.dropna()\n",
    "id_obj_shape_nonan = id_obj_shape_pd.dropna()"
   ]
  },
  {
   "cell_type": "code",
   "execution_count": 21,
   "metadata": {},
   "outputs": [],
   "source": [
    "nside = 1024\n",
    "Ngen = len(ra_eboss)\n",
    "\n",
    "ra_field = ra_eboss\n",
    "dec_field =  dec_eboss\n",
    "\n",
    "minra = min(ra_field)\n",
    "maxra = max(ra_field)\n",
    "mindec = min(dec_field)\n",
    "maxdec = max(dec_field)\n",
    "pix = convert_to_pix_coord(ra_field, dec_field, nside, nest=True)\n",
    "upix = np.unique(pix)\n",
    "#mask = np.zeros(hp.nside2npix(nside))\n",
    "\n",
    "\n",
    "pix_shape = convert_to_pix_coord(ra_shape_nonan, dec_shape_nonan, nside, nest = True)\n",
    "#upix_shape = np.unique(pix_shape)\n",
    "\n",
    "new_mask = np.in1d(pix_shape, upix)\n"
   ]
  },
  {
   "cell_type": "code",
   "execution_count": 35,
   "metadata": {},
   "outputs": [],
   "source": [
    "nan_mask  = np.in1d(ra_sh, ra_shape_nonan)\n"
   ]
  },
  {
   "cell_type": "code",
   "execution_count": 39,
   "metadata": {},
   "outputs": [],
   "source": [
    "ra_shape_eboss = ra_shape_nonan[new_mask]\n",
    "dec_shape_eboss = dec_shape_nonan[new_mask]\n",
    "e1_shape_eboss = e1_shape_nonan[new_mask]\n",
    "e2_shape_eboss = e2_shape_nonan[new_mask]\n",
    "tomo_bin_shape_eboss = tomo_bin_shape_nonan[nan_mask][new_mask]\n",
    "id_obj_shape_eboss = id_obj_shape_nonan[nan_mask][new_mask]\n",
    "flux_i_shape_eboss = flux_i_shape_nonan[new_mask]"
   ]
  },
  {
   "cell_type": "code",
   "execution_count": 81,
   "metadata": {},
   "outputs": [
    {
     "data": {
      "text/plain": [
       "<matplotlib.collections.PathCollection at 0x2aaca8692a90>"
      ]
     },
     "execution_count": 81,
     "metadata": {},
     "output_type": "execute_result"
    },
    {
     "data": {
      "image/png": "[encoded data removed]",
      "text/plain": [
       "<Figure size 432x288 with 1 Axes>"
      ]
     },
     "metadata": {
      "needs_background": "light"
     },
     "output_type": "display_data"
    }
   ],
   "source": [
    "import numpy as np\n",
    "ind = np.random.randint(0,len(ra_shape_eboss),1000)\n",
    "import matplotlib.pyplot as plt\n",
    "plt.scatter((np.array(ra_shape_eboss))[ind],(np.array(dec_shape_eboss))[ind])"
   ]
  },
  {
   "cell_type": "code",
   "execution_count": null,
   "metadata": {},
   "outputs": [],
   "source": []
  },
  {
   "cell_type": "code",
   "execution_count": 40,
   "metadata": {},
   "outputs": [],
   "source": [
    "from astropy.table import Table\n",
    "# folder = \"/global/cscratch1/sd/giannini/clusteringz/wz/data/\"\n",
    "path = folder + 'data/shape_Y3data_eboss.fits'\n",
    "fits_f = Table()\n",
    "fits_f['ra'] = ra_shape_eboss \n",
    "fits_f['dec'] = dec_shape_eboss\n",
    "fits_f['e1'] = e1_shape_eboss \n",
    "fits_f['e2'] = e2_shape_eboss \n",
    "fits_f['tomo_bin'] = tomo_bin_shape_eboss \n",
    "fits_f['id_obj'] = id_obj_shape_eboss\n",
    "fits_f['flux_i'] = flux_i_shape_eboss\n",
    "fits_f.write(path)"
   ]
  },
  {
   "cell_type": "code",
   "execution_count": 9,
   "metadata": {},
   "outputs": [],
   "source": [
    "miao = pf.open(folder + 'data/shape_Y3data_eboss.fits')"
   ]
  },
  {
   "cell_type": "code",
   "execution_count": 13,
   "metadata": {},
   "outputs": [],
   "source": [
    "ra_sh = miao[1].data['ra']\n",
    "dec_sh = miao[1].data['dec']\n",
    "e1_sh = miao[1].data['e1']\n",
    "e2_sh = miao[1].data['e2']\n",
    "tomo_bin_sh = miao[1].data['tomo_bin']\n",
    "id_obj_sh = miao[1].data['id_obj']\n",
    "flux_i_sh = miao[1].data['flux_i']"
   ]
  },
  {
   "cell_type": "code",
   "execution_count": 16,
   "metadata": {},
   "outputs": [],
   "source": [
    "from astropy.table import Table\n",
    "# folder = \"/global/cscratch1/sd/giannini/clusteringz/wz/data/\"\n",
    "tbins = 4\n",
    "for t in range(tbins):\n",
    "    mask_tbin = tomo_bin_sh == t\n",
    "    path = folder + 'data/shape_Y3data_eboss_tbin{0}.fits'.format(t)\n",
    "    fits_f = Table()\n",
    "    fits_f['ra'] = ra_sh[mask_tbin]\n",
    "    fits_f['dec'] = dec_sh[mask_tbin]\n",
    "    fits_f['e1'] = e1_sh[mask_tbin]\n",
    "    fits_f['e2'] = e2_sh[mask_tbin]\n",
    "    fits_f['tomo_bin'] = tomo_bin_sh[mask_tbin]\n",
    "    fits_f['id_obj'] = id_obj_sh[mask_tbin]\n",
    "    fits_f['flux_i'] = flux_i_sh[mask_tbin]\n",
    "    fits_f.write(path)"
   ]
  },
  {
   "cell_type": "code",
   "execution_count": 4,
   "metadata": {},
   "outputs": [
    {
     "data": {
      "text/plain": [
       "1"
      ]
     },
     "execution_count": 4,
     "metadata": {},
     "output_type": "execute_result"
    }
   ],
   "source": [
    "1"
   ]
  },
  {
   "cell_type": "code",
   "execution_count": 10,
   "metadata": {},
   "outputs": [],
   "source": [
    "test = pf.open(folder + 'data/shape_Y3data_eboss.fits')"
   ]
  },
  {
   "cell_type": "code",
   "execution_count": 12,
   "metadata": {},
   "outputs": [],
   "source": [
    "tomo_bin = (test[1].data['tomo_bin'])"
   ]
  },
  {
   "cell_type": "code",
   "execution_count": null,
   "metadata": {},
   "outputs": [],
   "source": [
    "if "
   ]
  },
  {
   "cell_type": "code",
   "execution_count": 14,
   "metadata": {},
   "outputs": [
    {
     "data": {
      "text/plain": [
       "<matplotlib.collections.PathCollection at 0x2aab0fc593d0>"
      ]
     },
     "execution_count": 14,
     "metadata": {},
     "output_type": "execute_result"
    },
    {
     "data": {
      "image/png": "[encoded data removed]",
      "text/plain": [
       "<Figure size 432x288 with 1 Axes>"
      ]
     },
     "metadata": {
      "needs_background": "light"
     },
     "output_type": "display_data"
    }
   ],
   "source": [
    "import numpy as np\n",
    "ind = np.random.randint(0,len(test[1].data['ra'][tomo_bin==0]),1000)\n",
    "import matplotlib.pyplot as plt\n",
    "plt.scatter((np.array(test[1].data['ra'][tomo_bin==0]))[ind],(np.array(test[1].data['dec'][tomo_bin==0]))[ind])"
   ]
  },
  {
   "cell_type": "code",
   "execution_count": 15,
   "metadata": {},
   "outputs": [
    {
     "data": {
      "text/plain": [
       "<matplotlib.collections.PathCollection at 0x2aab0fc26c10>"
      ]
     },
     "execution_count": 15,
     "metadata": {},
     "output_type": "execute_result"
    },
    {
     "data": {
      "image/png": "[encoded data removed]",
      "text/plain": [
       "<Figure size 432x288 with 1 Axes>"
      ]
     },
     "metadata": {
      "needs_background": "light"
     },
     "output_type": "display_data"
    }
   ],
   "source": [
    "import numpy as np\n",
    "ind = np.random.randint(0,len(test[1].data['ra'][tomo_bin==1]),1000)\n",
    "import matplotlib.pyplot as plt\n",
    "plt.scatter((np.array(test[1].data['ra'][tomo_bin==1]))[ind],(np.array(test[1].data['dec'][tomo_bin==1]))[ind])"
   ]
  },
  {
   "cell_type": "code",
   "execution_count": 16,
   "metadata": {},
   "outputs": [
    {
     "data": {
      "text/plain": [
       "<matplotlib.collections.PathCollection at 0x2aab0fbcbd90>"
      ]
     },
     "execution_count": 16,
     "metadata": {},
     "output_type": "execute_result"
    },
    {
     "data": {
      "image/png": "[encoded data removed]",
      "text/plain": [
       "<Figure size 432x288 with 1 Axes>"
      ]
     },
     "metadata": {
      "needs_background": "light"
     },
     "output_type": "display_data"
    }
   ],
   "source": [
    "import numpy as np\n",
    "ind = np.random.randint(0,len(test[1].data['ra'][tomo_bin==2]),1000)\n",
    "import matplotlib.pyplot as plt\n",
    "plt.scatter((np.array(test[1].data['ra'][tomo_bin==2]))[ind],(np.array(test[1].data['dec'][tomo_bin==2]))[ind])"
   ]
  },
  {
   "cell_type": "code",
   "execution_count": 17,
   "metadata": {},
   "outputs": [
    {
     "data": {
      "text/plain": [
       "<matplotlib.collections.PathCollection at 0x2aab0fd72f50>"
      ]
     },
     "execution_count": 17,
     "metadata": {},
     "output_type": "execute_result"
    },
    {
     "data": {
      "image/png": "[encoded data removed]",
      "text/plain": [
       "<Figure size 432x288 with 1 Axes>"
      ]
     },
     "metadata": {
      "needs_background": "light"
     },
     "output_type": "display_data"
    }
   ],
   "source": [
    "import numpy as np\n",
    "ind = np.random.randint(0,len(test[1].data['ra'][tomo_bin==3]),1000)\n",
    "import matplotlib.pyplot as plt\n",
    "plt.scatter((np.array(test[1].data['ra'][tomo_bin==3]))[ind],(np.array(test[1].data['dec'][tomo_bin==3]))[ind])"
   ]
  },
  {
   "cell_type": "code",
   "execution_count": null,
   "metadata": {},
   "outputs": [],
   "source": []
  }
 ],
 "metadata": {
  "kernelspec": {
   "display_name": "test",
   "language": "python",
   "name": "test"
  },
  "language_info": {
   "codemirror_mode": {
    "name": "ipython",
    "version": 2
   },
   "file_extension": ".py",
   "mimetype": "text/x-python",
   "name": "python",
   "nbconvert_exporter": "python",
   "pygments_lexer": "ipython2",
   "version": "2.7.16"
  }
 },
 "nbformat": 4,
 "nbformat_minor": 4
}
