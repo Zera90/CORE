{
 "cells": [
  {
   "cell_type": "markdown",
   "metadata": {},
   "source": [
    "I need the samples for clustering redshifts: \n",
    "\n",
    "- shape catalogue from alex justin\n",
    "- shape catalogue randoms (after applying rm mask)\n",
    "- redmagic from mastercat\n",
    "- redmagic randoms from mastercat\n",
    "\n",
    "to shapes and rm randoms, the rm mask has to be applied. \n",
    "Also, to the shape catalogue, I need to select a select_flag == 0. \n",
    "\n"
   ]
  },
  {
   "cell_type": "code",
   "execution_count": 10,
   "metadata": {},
   "outputs": [],
   "source": [
    "%matplotlib inline\n",
    "import healpy as hp\n",
    "import numpy as np\n",
    "import matplotlib.pyplot as plt\n",
    "\n",
    "def convert_to_pix_coord(ra, dec, nside=1024,nest=False):\n",
    "    \"\"\"\n",
    "    Converts RA,DEC to hpix coordinates\n",
    "    \"\"\"\n",
    "\n",
    "    theta = (90.0 - dec) * np.pi / 180.\n",
    "    #print theta\n",
    "    phi = ra * np.pi / 180.\n",
    "    pix = hp.ang2pix(nside, theta, phi, nest=nest)\n",
    "\n",
    "    return pix\n",
    "\n",
    "def IndexToDeclRa(index, nside=1024,nest= False):\n",
    "    theta,phi=hp.pixelfunc.pix2ang(nside ,index,nest=nest)\n",
    "    return -np.degrees(theta-np.pi/2.),np.degrees(phi)\n",
    "\n",
    "def generate_randoms_radec(minra, maxra, mindec, maxdec, Ngen, raoffset=0):\n",
    "    r = 1.0\n",
    "    # this z is not redshift!\n",
    "    zmin = r * np.sin(np.pi * mindec / 180.)\n",
    "    zmax = r * np.sin(np.pi * maxdec / 180.)\n",
    "   \n",
    "    # parity transform from usual, but let's not worry about that\n",
    "    phimin = np.pi / 180. * (minra - 180 + raoffset)\n",
    "    phimax = np.pi / 180. * (maxra - 180 + raoffset)\n",
    "   \n",
    "    # generate ra and dec\n",
    "    z_coord = np.random.uniform(zmin, zmax, Ngen)  # not redshift!\n",
    "    phi = np.random.uniform(phimin, phimax, Ngen)\n",
    "    dec_rad = np.arcsin(z_coord / r)\n",
    "   \n",
    "    # convert to ra and dec\n",
    "    ra = phi * 180 / np.pi + 180 - raoffset\n",
    "    dec = dec_rad * 180 / np.pi\n",
    "    return ra, dec\n",
    "\n",
    "\n"
   ]
  },
  {
   "cell_type": "markdown",
   "metadata": {},
   "source": [
    "# Make files for clustering-z (data: WL sources and RM)"
   ]
  },
  {
   "cell_type": "code",
   "execution_count": null,
   "metadata": {},
   "outputs": [],
   "source": [
    "import h5py\n",
    "import numpy as np\n",
    "\n",
    "mastercat_v = '12_3_19'\n",
    "\n",
    "path_mastercat = '/project/projectdirs/des/www/y3_cats/Y3_mastercat_'+mastercat_v+'.h5'\n",
    "path_to_save = '/global/cscratch1/sd/mgatti/clustering_z/data/'\n",
    "\n",
    "\n",
    "mastercat = h5py.File(path_mastercat,'r')\n",
    "\n",
    "# WL sample ******\n",
    "\n",
    "select = np.array(mastercat['index']['select'])\n",
    "R11 = np.array(mastercat['catalog']['metacal']['unsheared']['R11'])[select]\n",
    "R22 = np.array(mastercat['catalog']['metacal']['unsheared']['R22'])[select]\n",
    "w = (R11+R22)/2.\n",
    "e1  = np.array(mastercat['catalog']['metacal']['unsheared']['e_1'])[select]\n",
    "e2 = np.array(mastercat['catalog']['metacal']['unsheared']['e_2'])[select]\n",
    "snr = np.array(mastercat['catalog']['metacal']['unsheared']['snr'])[select]\n",
    "\n",
    "ra  = np.array(mastercat['catalog']['metacal']['unsheared']['ra'])[select]\n",
    "dec = np.array(mastercat['catalog']['metacal']['unsheared']['dec'])[select]\n",
    "bin_index = np.array(mastercat['catalog']['sompz']['unsheared']['bhat'])[select]\n",
    "\n",
    "\n",
    "# RMG sample **************************\n",
    "select = np.array(mastercat['index']['redmagic']['combined_sample_fid']['select'])\n",
    "z_rm =  np.array(mastercat['catalog']['redmagic']['combined_sample_fid']['zredmagic'])[select]\n",
    "w_rm =  np.array(mastercat['catalog']['redmagic']['combined_sample_fid']['weight'])[select]\n",
    "ra_rm =  np.array(mastercat['catalog']['redmagic']['combined_sample_fid']['ra'])[select]\n",
    "dec_rm =  np.array(mastercat['catalog']['redmagic']['combined_sample_fid']['dec'])[select]\n",
    "\n",
    "# random *********************************************\n",
    "select = np.array(mastercat['index']['redmagic']['combined_sample_fid']['random_select'])\n",
    "ra_rm_random =  np.array(mastercat['randoms']['redmagic']['combined_sample_fid']['ra'])[select]\n",
    "dec_rm_random  =  np.array(mastercat['randoms']['redmagic']['combined_sample_fid']['dec'])[select]\n",
    "mastercat.close()\n",
    "\n",
    "\n",
    "from astropy.table import Table\n",
    "import os\n",
    "path = path_to_save + '/shape_Y3_'+mastercat_v+'.fits'\n",
    "if os.path.exists(path):\n",
    "    os.remove(path)\n",
    "fits_f = Table()\n",
    "fits_f['ra'] = ra\n",
    "fits_f['dec'] = dec\n",
    "fits_f['e1'] = e1\n",
    "fits_f['e2'] = e2\n",
    "fits_f['tomo_bin'] = bin_index\n",
    "fits_f['w'] = w\n",
    "fits_f['snr'] = snr\n",
    "fits_f.write(path)\n",
    "\n",
    "\n",
    "from astropy.table import Table\n",
    "import os\n",
    "path = path_to_save + '/redmagic_Y3_'+mastercat_v+'.fits'\n",
    "if os.path.exists(path):\n",
    "    os.remove(path)\n",
    "fits_f = Table()\n",
    "fits_f['ra'] = ra_rm\n",
    "fits_f['dec'] = dec_rm\n",
    "fits_f['z'] = z_rm\n",
    "fits_f['w'] = w_rm\n",
    "fits_f.write(path)\n",
    "\n",
    "\n",
    "from astropy.table import Table\n",
    "import os\n",
    "path = path_to_save + '/redmagic_random_Y3_'+mastercat_v+'.fits'\n",
    "if os.path.exists(path):\n",
    "    os.remove(path)\n",
    "fits_f = Table()\n",
    "fits_f['ra'] = ra_rm_random\n",
    "fits_f['dec'] = dec_rm_random\n",
    "fits_f.write(path)\n",
    "print ('done')\n",
    "\n",
    "\n",
    "\n",
    "# RMG sample **************************\n",
    "select = np.array(mastercat['index']['redmagic']['higherlum']['select'])\n",
    "z_rm =  np.array(mastercat['catalog']['redmagic']['higherlum']['zredmagic'])[select]\n",
    "w_rm =  np.array(mastercat['catalog']['redmagic']['higherlum']['weight'])[select]\n",
    "ra_rm =  np.array(mastercat['catalog']['redmagic']['higherlum']['ra'])[select]\n",
    "dec_rm =  np.array(mastercat['catalog']['redmagic']['higherlum']['dec'])[select]\n",
    "\n",
    "# random *********************************************\n",
    "select = np.array(mastercat['index']['redmagic']['higherlum']['random_select'])\n",
    "ra_rm_random =  np.array(mastercat['randoms']['redmagic']['higherlum']['ra'])[select]\n",
    "dec_rm_random  =  np.array(mastercat['randoms']['redmagic']['higherlum']['dec'])[select]\n",
    "mastercat.close()\n",
    "\n",
    "\n",
    "\n",
    "from astropy.table import Table\n",
    "import os\n",
    "path = path_to_save + '/redmagic_higherlum_Y3_'+mastercat_v+'.fits'\n",
    "if os.path.exists(path):\n",
    "    os.remove(path)\n",
    "fits_f = Table()\n",
    "fits_f['ra'] = ra_rm\n",
    "fits_f['dec'] = dec_rm\n",
    "fits_f['z'] = z_rm\n",
    "fits_f['w'] = w_rm\n",
    "fits_f.write(path)\n",
    "\n",
    "\n",
    "from astropy.table import Table\n",
    "import os\n",
    "path = path_to_save + '/redmagic_higherlum_random_Y3_'+mastercat_v+'.fits'\n",
    "if os.path.exists(path):\n",
    "    os.remove(path)\n",
    "fits_f = Table()\n",
    "fits_f['ra'] = ra_rm_random\n",
    "fits_f['dec'] = dec_rm_random\n",
    "fits_f.write(path)\n",
    "print ('done')\n",
    "\n",
    "\n",
    "# RMG sample **************************\n",
    "select = np.array(mastercat['index']['redmagic']['highlum']['select'])\n",
    "z_rm =  np.array(mastercat['catalog']['redmagic']['highlum']['zredmagic'])[select]\n",
    "w_rm =  np.array(mastercat['catalog']['redmagic']['highlum']['weight'])[select]\n",
    "ra_rm =  np.array(mastercat['catalog']['redmagic']['highlum']['ra'])[select]\n",
    "dec_rm =  np.array(mastercat['catalog']['redmagic']['highlum']['dec'])[select]\n",
    "\n",
    "# random *********************************************\n",
    "select = np.array(mastercat['index']['redmagic']['highlum']['random_select'])\n",
    "ra_rm_random =  np.array(mastercat['randoms']['redmagic']['highlum']['ra'])[select]\n",
    "dec_rm_random  =  np.array(mastercat['randoms']['redmagic']['highlum']['dec'])[select]\n",
    "mastercat.close()\n",
    "\n",
    "\n",
    "\n",
    "from astropy.table import Table\n",
    "import os\n",
    "path = path_to_save + '/redmagic_highlum_Y3_'+mastercat_v+'.fits'\n",
    "if os.path.exists(path):\n",
    "    os.remove(path)\n",
    "fits_f = Table()\n",
    "fits_f['ra'] = ra_rm\n",
    "fits_f['dec'] = dec_rm\n",
    "fits_f['z'] = z_rm\n",
    "fits_f['w'] = w_rm\n",
    "fits_f.write(path)\n",
    "\n",
    "\n",
    "from astropy.table import Table\n",
    "import os\n",
    "path = path_to_save + '/redmagic_highlum_random_Y3_'+mastercat_v+'.fits'\n",
    "if os.path.exists(path):\n",
    "    os.remove(path)\n",
    "fits_f = Table()\n",
    "fits_f['ra'] = ra_rm_random\n",
    "fits_f['dec'] = dec_rm_random\n",
    "fits_f.write(path)\n",
    "print ('done')\n"
   ]
  },
  {
   "cell_type": "markdown",
   "metadata": {},
   "source": [
    "# Make files for clustering-z (data: eboss / WL sources and RM)"
   ]
  },
  {
   "cell_type": "code",
   "execution_count": null,
   "metadata": {},
   "outputs": [],
   "source": [
    "import astropy.io.fits as pf\n",
    "import astropy.io.fits as pf\n",
    "eboss = pf.open(\"/global/cscratch1/sd/giannini/clusteringz/Y3data/data/eBOSS_BOSS_all5_v7nov19_y3cuts_totweight.fits\")\n",
    "ra_eboss = eboss[1].data['RA']\n",
    "dec_eboss = eboss[1].data['DEC']\n",
    "z_eboss = eboss[1].data['z']\n",
    "w_eboss = eboss[1].data['TOT_WEIGHT_RC' ]\n",
    "\n",
    "eboss_rdm = pf.open(\"/global/cscratch1/sd/giannini/clusteringz/Y3data/data/eBOSS_BOSS_all5_v7nov19_y3cuts_totweight_randoms.fits\")\n",
    "ra_rndm_eboss = eboss_rdm[1].data['RA']\n",
    "dec_rndm_eboss = eboss_rdm[1].data['DEC']\n",
    "z_rndm_eboss = eboss_rdm[1].data['Z']\n",
    "w_rndm_eboss = eboss_rdm[1].data['TOT_WEIGHT_RC']"
   ]
  },
  {
   "cell_type": "code",
   "execution_count": 40,
   "metadata": {},
   "outputs": [
    {
     "name": "stdout",
     "output_type": "stream",
     "text": [
      "15.14183580221316\n",
      "1.5771073789941714\n",
      "65.33306071985318\n",
      "15.14183580221316\n",
      "1.5771073789941714\n",
      "65.33306071985318\n"
     ]
    },
    {
     "ename": "TypeError",
     "evalue": "'int' object is not callable",
     "output_type": "error",
     "traceback": [
      "\u001b[0;31m\u001b[0m",
      "\u001b[0;31mTypeError\u001b[0mTraceback (most recent call last)",
      "\u001b[0;32m<ipython-input-40-bc735557592d>\u001b[0m in \u001b[0;36m<module>\u001b[0;34m()\u001b[0m\n\u001b[1;32m     43\u001b[0m \u001b[0;34m\u001b[0m\u001b[0m\n\u001b[1;32m     44\u001b[0m \u001b[0;34m\u001b[0m\u001b[0m\n\u001b[0;32m---> 45\u001b[0;31m \u001b[0mcommon_mask\u001b[0m \u001b[0;34m=\u001b[0m \u001b[0;34m(\u001b[0m\u001b[0meboss_rndm_map\u001b[0m\u001b[0;34m!=\u001b[0m\u001b[0;36m0\u001b[0m \u001b[0;34m(\u001b[0m\u001b[0mrm_rndm_map\u001b[0m\u001b[0;34m!=\u001b[0m\u001b[0;36m0\u001b[0m\u001b[0;34m)\u001b[0m\u001b[0;34m)\u001b[0m\u001b[0;34m\u001b[0m\u001b[0m\n\u001b[0m\u001b[1;32m     46\u001b[0m \u001b[0mpix_mask_fial\u001b[0m \u001b[0;34m=\u001b[0m \u001b[0mnp\u001b[0m\u001b[0;34m.\u001b[0m\u001b[0marange\u001b[0m\u001b[0;34m(\u001b[0m\u001b[0mlen\u001b[0m\u001b[0;34m(\u001b[0m\u001b[0mcommon_mask\u001b[0m\u001b[0;34m)\u001b[0m\u001b[0;34m)\u001b[0m\u001b[0;34m[\u001b[0m\u001b[0mcommon_mask\u001b[0m\u001b[0;34m]\u001b[0m\u001b[0;34m\u001b[0m\u001b[0m\n\u001b[1;32m     47\u001b[0m \u001b[0;34m\u001b[0m\u001b[0m\n",
      "\u001b[0;31mTypeError\u001b[0m: 'int' object is not callable"
     ]
    },
    {
     "data": {
      "image/png": "[encoded data removed]",
      "text/plain": [
       "<Figure size 612x388.8 with 2 Axes>"
      ]
     },
     "metadata": {
      "needs_background": "light"
     },
     "output_type": "display_data"
    },
    {
     "data": {
      "image/png": "[encoded data removed]",
      "text/plain": [
       "<Figure size 612x388.8 with 2 Axes>"
      ]
     },
     "metadata": {
      "needs_background": "light"
     },
     "output_type": "display_data"
    }
   ],
   "source": [
    "# make pixel map from randoms\n",
    "nside = 1024\n",
    "eboss_rndm_map = np.zeros(hp.nside2npix(nside))\n",
    "eboss_map = np.zeros(hp.nside2npix(nside))\n",
    "\n",
    "pix_rnmd = convert_to_pix_coord(ra_rndm_eboss,dec_rndm_eboss, nside=nside)\n",
    "unique_pix1, idx1, idx_rep1 = np.unique(pix_rnmd, return_index=True, return_inverse=True)\n",
    "eboss_rndm_map[unique_pix1] += np.bincount(idx_rep1, weights=np.ones(len(pix_rnmd)))\n",
    "\n",
    "pix = convert_to_pix_coord(ra_eboss,dec_eboss, nside=nside)\n",
    "unique_pix1, idx1, idx_rep1 = np.unique(pix, return_index=True, return_inverse=True)\n",
    "eboss_map[unique_pix1] += np.bincount(idx_rep1, weights=np.ones(len(pix)))\n",
    "\n",
    "hp.mollview(eboss_rndm_map)\n",
    "hp.mollview(eboss_map)\n",
    "\n",
    "# make mask for WL and rm\n",
    "rm_rndm_map = np.zeros(hp.nside2npix(nside))\n",
    "rm_map = np.zeros(hp.nside2npix(nside))\n",
    "wl_map = np.zeros(hp.nside2npix(nside))\n",
    "\n",
    "pix_rndm_rm = convert_to_pix_coord(ra_rm_random,dec_rm_random, nside=nside)\n",
    "pix_rm = convert_to_pix_coord(ra_rm,dec_rm, nside=nside)\n",
    "pix_wl = convert_to_pix_coord(ra,dec, nside=nside)\n",
    "\n",
    "unique_pix1, idx1, idx_rep1 = np.unique(pix_rndm_rm, return_index=True, return_inverse=True)\n",
    "rm_rndm_map[unique_pix1] += np.bincount(idx_rep1, weights=np.ones(len(pix_rndm_rm)))\n",
    "\n",
    "unique_pix1, idx1, idx_rep1 = np.unique(pix_rm, return_index=True, return_inverse=True)\n",
    "rm_map[unique_pix1] += np.bincount(idx_rep1, weights=np.ones(len(pix_rm)))\n",
    "\n",
    "unique_pix1, idx1, idx_rep1 = np.unique(pix_wl, return_index=True, return_inverse=True)\n",
    "wl_map[unique_pix1] += np.bincount(idx_rep1, weights=np.ones(len(pix_wl)))\n",
    "\n",
    "\n",
    "print np.mean(rm_rndm_map[eboss_rndm_map!=0])\n",
    "print np.mean(rm_map[eboss_rndm_map!=0])\n",
    "print np.mean(wl_map[eboss_rndm_map!=0])\n",
    "\n",
    "print np.mean(rm_rndm_map[eboss_rndm_map!=0])\n",
    "print np.mean(rm_map[eboss_rndm_map!=0])\n",
    "print np.mean(wl_map[eboss_rndm_map!=0])\n",
    "  \n",
    "    \n",
    "common_mask = ((eboss_rndm_map!=0 ) & (rm_rndm_map!=0))\n",
    "pix_mask_fial = np.arange(len(common_mask))[common_mask]\n",
    "\n",
    "\n",
    "mask_wl_final = np.in1d(pix_wl,pix_mask_fial)\n",
    "    \n",
    "from astropy.table import Table\n",
    "import os\n",
    "path = path_to_save + '/shape_Y3_'+mastercat_v+'_ebossv.fits'\n",
    "if os.path.exists(path):\n",
    "    os.remove(path)\n",
    "fits_f = Table()\n",
    "fits_f['ra'] = ra[mask_wl_final ]\n",
    "fits_f['dec'] = dec[mask_wl_final ]\n",
    "fits_f['e1'] = e1[mask_wl_final ]\n",
    "fits_f['e2'] = e2[mask_wl_final ]\n",
    "fits_f['tomo_bin'] = bin_index[mask_wl_final ]\n",
    "fits_f['w'] = w[mask_wl_final ]\n",
    "fits_f['snr'] = snr[mask_wl_final ]\n",
    "fits_f.write(path)\n",
    "\n",
    "\n",
    "mask_rm_final = np.in1d(pix_rm,pix_mask_fial)\n",
    "   \n",
    "    \n",
    "from astropy.table import Table\n",
    "import os\n",
    "path = path_to_save + '/redmagic_Y3_'+mastercat_v+'_ebossv.fits'\n",
    "if os.path.exists(path):\n",
    "    os.remove(path)\n",
    "fits_f = Table()\n",
    "fits_f['ra'] = ra_rm[mask_rm_final]\n",
    "fits_f['dec'] = dec_rm[mask_rm_final]\n",
    "fits_f['z'] = z_rm[mask_rm_final]\n",
    "fits_f['w'] = w_rm[mask_rm_final]\n",
    "fits_f.write(path)\n",
    "\n",
    "\n",
    "from astropy.table import Table\n",
    "import os\n",
    "\n",
    "mask_rm_rndm_final = np.in1d(pix_rndm_rm,pix_mask_fial)\n",
    "   \n",
    "    \n",
    "path = path_to_save + '/redmagic_random_Y3_'+mastercat_v+'_ebossv.fits'\n",
    "if os.path.exists(path):\n",
    "    os.remove(path)\n",
    "fits_f = Table()\n",
    "fits_f['ra'] = ra_rm_random[mask_rm_rndm_final]\n",
    "fits_f['dec'] = dec_rm_random[mask_rm_rndm_final]\n",
    "fits_f.write(path)\n",
    "print ('done')\n",
    "\n",
    "\n",
    "\n",
    "\n",
    "\n",
    "mask_eboss_final = np.in1d(pix,pix_mask_fial)\n",
    "  \n",
    "\n",
    "path = path_to_save + '/eboss_'+mastercat_v+'.fits'\n",
    "if os.path.exists(path):\n",
    "    os.remove(path)\n",
    "fits_f = Table()\n",
    "fits_f['ra'] = ra_eboss[mask_eboss_final]\n",
    "fits_f['dec'] = dec_eboss[mask_eboss_final]\n",
    "fits_f['z'] = z_eboss[mask_eboss_final]\n",
    "fits_f['w'] = w_eboss[mask_eboss_final]\n",
    "\n",
    "fits_f.write(path)\n",
    "print ('done')\n",
    "\n",
    "mask_eboss_rndm_final = np.in1d(pix_rnmd,pix_mask_fial)\n",
    "  \n",
    "\n",
    "path = path_to_save + '/eboss_rndm_'+mastercat_v+'.fits'\n",
    "if os.path.exists(path):\n",
    "    os.remove(path)\n",
    "fits_f = Table()\n",
    "fits_f['ra'] = ra_rndm_eboss[mask_eboss_rndm_final]\n",
    "fits_f['dec'] = dec_rndm_eboss[mask_eboss_rndm_final]\n",
    "fits_f['z'] = z_rndm_eboss[mask_eboss_rndm_final]\n",
    "fits_f['w'] = w_rndm_eboss[mask_eboss_rndm_final]\n",
    "fits_f.write(path)\n",
    "print ('done')\n",
    "\n",
    "\n",
    "\n",
    "\n",
    "# re checks\n",
    "\n",
    "eboss_rndm_map = np.zeros(hp.nside2npix(nside))\n",
    "eboss_map = np.zeros(hp.nside2npix(nside))\n",
    "\n",
    "pix_rnmd = convert_to_pix_coord(ra_rndm_eboss[mask_eboss_rndm_final],dec_rndm_eboss[mask_eboss_rndm_final], nside=nside)\n",
    "unique_pix1, idx1, idx_rep1 = np.unique(pix_rnmd, return_index=True, return_inverse=True)\n",
    "eboss_rndm_map[unique_pix1] += np.bincount(idx_rep1, weights=np.ones(len(pix_rnmd)))\n",
    "eboss_rndm_map[eboss_rndm_map!=0.]=1\n",
    "\n",
    "pix = convert_to_pix_coord(ra_eboss[mask_eboss_final],dec_eboss[mask_eboss_final], nside=nside)\n",
    "unique_pix1, idx1, idx_rep1 = np.unique(pix, return_index=True, return_inverse=True)\n",
    "eboss_map[unique_pix1] += np.bincount(idx_rep1, weights=np.ones(len(pix)))\n",
    "eboss_map[eboss_map!=0.]=1\n",
    "\n",
    "hp.mollview(eboss_rndm_map)\n",
    "hp.mollview(eboss_map)\n",
    "\n",
    "# make mask for WL and rm\n",
    "rm_rndm_map = np.zeros(hp.nside2npix(nside))\n",
    "rm_map = np.zeros(hp.nside2npix(nside))\n",
    "wl_map = np.zeros(hp.nside2npix(nside))\n",
    "\n",
    "pix_rndm_rm = convert_to_pix_coord(ra_rm_random[mask_rm_rndm_final],dec_rm_random[mask_rm_rndm_final], nside=nside)\n",
    "pix_rm = convert_to_pix_coord(ra_rm[mask_rm_final ],dec_rm[mask_rm_final ], nside=nside)\n",
    "pix_wl = convert_to_pix_coord(ra[mask_wl_final ],dec[mask_wl_final ], nside=nside)\n",
    "\n",
    "unique_pix1, idx1, idx_rep1 = np.unique(pix_rndm_rm, return_index=True, return_inverse=True)\n",
    "rm_rndm_map[unique_pix1] += np.bincount(idx_rep1, weights=np.ones(len(pix_rndm_rm)))\n",
    "rm_rndm_map[rm_rndm_map!=0.]=1\n",
    "\n",
    "unique_pix1, idx1, idx_rep1 = np.unique(pix_rm, return_index=True, return_inverse=True)\n",
    "rm_map[unique_pix1] += np.bincount(idx_rep1, weights=np.ones(len(pix_rm)))\n",
    "rn_map[rn_map!=0.]=1\n",
    "\n",
    "unique_pix1, idx1, idx_rep1 = np.unique(pix_wl, return_index=True, return_inverse=True)\n",
    "wl_map[unique_pix1] += np.bincount(idx_rep1, weights=np.ones(len(pix_wl)))\n",
    "wl_map[wl_map!=0.]=1\n",
    "\n",
    "       "
   ]
  },
  {
   "cell_type": "code",
   "execution_count": 43,
   "metadata": {},
   "outputs": [
    {
     "data": {
      "image/png": "[encoded data removed]",
      "text/plain": [
       "<Figure size 612x388.8 with 2 Axes>"
      ]
     },
     "metadata": {
      "needs_background": "light"
     },
     "output_type": "display_data"
    },
    {
     "data": {
      "image/png": "[encoded data removed]",
      "text/plain": [
       "<Figure size 612x388.8 with 2 Axes>"
      ]
     },
     "metadata": {
      "needs_background": "light"
     },
     "output_type": "display_data"
    },
    {
     "data": {
      "image/png": "[encoded data removed]",
      "text/plain": [
       "<Figure size 612x388.8 with 2 Axes>"
      ]
     },
     "metadata": {
      "needs_background": "light"
     },
     "output_type": "display_data"
    }
   ],
   "source": [
    "# re checks\n",
    "\n",
    "eboss_rndm_map = np.zeros(hp.nside2npix(nside))\n",
    "eboss_map = np.zeros(hp.nside2npix(nside))\n",
    "\n",
    "pix_rnmd = convert_to_pix_coord(ra_rndm_eboss[mask_eboss_rndm_final],dec_rndm_eboss[mask_eboss_rndm_final], nside=nside)\n",
    "unique_pix1, idx1, idx_rep1 = np.unique(pix_rnmd, return_index=True, return_inverse=True)\n",
    "eboss_rndm_map[unique_pix1] += np.bincount(idx_rep1, weights=np.ones(len(pix_rnmd)))\n",
    "eboss_rndm_map[eboss_rndm_map!=0.]=1\n",
    "\n",
    "pix = convert_to_pix_coord(ra_eboss[mask_eboss_final],dec_eboss[mask_eboss_final], nside=nside)\n",
    "unique_pix1, idx1, idx_rep1 = np.unique(pix, return_index=True, return_inverse=True)\n",
    "eboss_map[unique_pix1] += np.bincount(idx_rep1, weights=np.ones(len(pix)))\n",
    "eboss_map[eboss_map!=0.]=1\n",
    "\n",
    "# make mask for WL and rm\n",
    "rm_rndm_map = np.zeros(hp.nside2npix(nside))\n",
    "rm_map = np.zeros(hp.nside2npix(nside))\n",
    "wl_map = np.zeros(hp.nside2npix(nside))\n",
    "\n",
    "pix_rndm_rm = convert_to_pix_coord(ra_rm_random[mask_rm_rndm_final],dec_rm_random[mask_rm_rndm_final], nside=nside)\n",
    "pix_rm = convert_to_pix_coord(ra_rm[mask_rm_final ],dec_rm[mask_rm_final ], nside=nside)\n",
    "pix_wl = convert_to_pix_coord(ra[mask_wl_final ],dec[mask_wl_final ], nside=nside)\n",
    "\n",
    "unique_pix1, idx1, idx_rep1 = np.unique(pix_rndm_rm, return_index=True, return_inverse=True)\n",
    "rm_rndm_map[unique_pix1] += np.bincount(idx_rep1, weights=np.ones(len(pix_rndm_rm)))\n",
    "rm_rndm_map[rm_rndm_map!=0.]=1\n",
    "\n",
    "unique_pix1, idx1, idx_rep1 = np.unique(pix_rm, return_index=True, return_inverse=True)\n",
    "rm_map[unique_pix1] += np.bincount(idx_rep1, weights=np.ones(len(pix_rm)))\n",
    "rm_map[rm_map!=0.]=1\n",
    "\n",
    "unique_pix1, idx1, idx_rep1 = np.unique(pix_wl, return_index=True, return_inverse=True)\n",
    "wl_map[unique_pix1] += np.bincount(idx_rep1, weights=np.ones(len(pix_wl)))\n",
    "wl_map[wl_map!=0.]=1\n",
    "\n",
    "hp.mollview(wl_map+rm_map+rm_rndm_map+eboss_map+eboss_rndm_map)"
   ]
  },
  {
   "cell_type": "code",
   "execution_count": null,
   "metadata": {},
   "outputs": [],
   "source": [
    "path = path_to_save + '/eboss_rndm_'+mastercat_v+'.fits'\n",
    "if os.path.exists(path):\n",
    "    os.remove(path)\n",
    "fits_f = Table()\n",
    "fits_f['ra'] = ra_rndm_eboss[mask_eboss_rndm_final]\n",
    "fits_f['dec'] = dec_rndm_eboss[mask_eboss_rndm_final]\n",
    "fits_f['z'] = z_rndm_eboss[mask_eboss_rndm_final]\n",
    "fits_f['w'] = w_rndm_eboss[mask_eboss_rndm_final]\n",
    "fits_f.write(path)\n",
    "print ('done')"
   ]
  },
  {
   "cell_type": "markdown",
   "metadata": {},
   "source": [
    "# Make file x sims:"
   ]
  },
  {
   "cell_type": "code",
   "execution_count": 6,
   "metadata": {},
   "outputs": [
    {
     "ename": "IndexError",
     "evalue": "index 50349121 is out of bounds for axis 0 with size 12582912",
     "output_type": "error",
     "traceback": [
      "\u001b[0;31m\u001b[0m",
      "\u001b[0;31mIndexError\u001b[0mTraceback (most recent call last)",
      "\u001b[0;32m<ipython-input-6-8060be091da8>\u001b[0m in \u001b[0;36m<module>\u001b[0;34m()\u001b[0m\n\u001b[1;32m     11\u001b[0m \u001b[0mhpix\u001b[0m \u001b[0;34m=\u001b[0m \u001b[0mnp\u001b[0m\u001b[0;34m.\u001b[0m\u001b[0marray\u001b[0m\u001b[0;34m(\u001b[0m\u001b[0mmastercat\u001b[0m\u001b[0;34m[\u001b[0m\u001b[0;34m'masks'\u001b[0m\u001b[0;34m]\u001b[0m\u001b[0;34m[\u001b[0m\u001b[0;34m'redmagic'\u001b[0m\u001b[0;34m]\u001b[0m\u001b[0;34m[\u001b[0m\u001b[0;34m'combined_sample_fid'\u001b[0m\u001b[0;34m]\u001b[0m\u001b[0;34m[\u001b[0m\u001b[0;34m'hpix'\u001b[0m\u001b[0;34m]\u001b[0m\u001b[0;34m)\u001b[0m\u001b[0;34m\u001b[0m\u001b[0m\n\u001b[1;32m     12\u001b[0m \u001b[0mmask_rm\u001b[0m \u001b[0;34m=\u001b[0m \u001b[0mnp\u001b[0m\u001b[0;34m.\u001b[0m\u001b[0mzeros\u001b[0m\u001b[0;34m(\u001b[0m\u001b[0mhp\u001b[0m\u001b[0;34m.\u001b[0m\u001b[0mpixelfunc\u001b[0m\u001b[0;34m.\u001b[0m\u001b[0mnside2npix\u001b[0m\u001b[0;34m(\u001b[0m\u001b[0mnside\u001b[0m\u001b[0;34m)\u001b[0m\u001b[0;34m)\u001b[0m\u001b[0;34m\u001b[0m\u001b[0m\n\u001b[0;32m---> 13\u001b[0;31m \u001b[0mmask_rm\u001b[0m\u001b[0;34m[\u001b[0m\u001b[0mhpix\u001b[0m\u001b[0;34m]\u001b[0m \u001b[0;34m=\u001b[0m \u001b[0mTrue\u001b[0m\u001b[0;34m\u001b[0m\u001b[0m\n\u001b[0m",
      "\u001b[0;31mIndexError\u001b[0m: index 50349121 is out of bounds for axis 0 with size 12582912"
     ]
    }
   ],
   "source": [
    "%matplotlib inline\n",
    "import matplotlib.pyplot as plt\n",
    "\n",
    "nside = 1024\n",
    "import h5py\n",
    "import pyfits as pf\n",
    "path_to_save = '/global/cscratch1/sd/mgatti/clustering_z/data/'\n",
    "version = 'v1.9.8_Y3a'\n",
    "mastercat = h5py.File('/global/cscratch1/sd/jderose/BCC/Chinchilla/Herd/Chinchilla-3/sampleselection/Y3a/Buzzard-3_'+version+'_mastercat.h5','r')\n",
    "# redmagic mask *****************\n",
    "hpix = np.array(mastercat['masks']['redmagic']['combined_sample_fid']['hpix'])\n",
    "mask_rm = np.zeros(hp.pixelfunc.nside2npix(nside))\n",
    "mask_rm[hpix] = True"
   ]
  },
  {
   "cell_type": "code",
   "execution_count": 3,
   "metadata": {},
   "outputs": [
    {
     "name": "stderr",
     "output_type": "stream",
     "text": [
      "/global/homes/m/mgatti/.conda/envs/myenv_up/lib/python2.7/site-packages/pyfits/__init__.py:22: PyFITSDeprecationWarning: PyFITS is deprecated, please use astropy.io.fits\n",
      "  PyFITSDeprecationWarning)  # noqa\n"
     ]
    }
   ],
   "source": [
    "\n",
    "# load redshifts into memory for subsequent tests *******************\n",
    "\n",
    "zredmagic_tot = mastercat['catalog']['redmagic']['combined_sample_fid']['zredmagic']\n",
    "zspec_tot = mastercat['catalog']['redmagic']['combined_sample_fid']['zspec']\n",
    "zredmagic_tot_hd = mastercat['catalog']['redmagic'][u'highdens']['zredmagic']\n",
    "zspec_tot_hd = mastercat['catalog']['redmagic'][u'highdens']['zspec']\n",
    "zredmagic_tot_hl = mastercat['catalog']['redmagic']['highlum']['zredmagic']\n",
    "zspec_tot_hl = mastercat['catalog']['redmagic']['highlum']['zspec']\n",
    "zredmagic_tot_hll = mastercat['catalog']['redmagic'][u'higherlum']['zredmagic']\n",
    "zspec_tot_hll = mastercat['catalog']['redmagic'][u'higherlum']['zspec']\n",
    "\n",
    "# save outputs ***************************\n",
    "from astropy.table import Table\n",
    "rm_files = ['combined_sample_fid','higherlum','highlum']\n",
    "for rm_file in m_riles:\n",
    "    path = path_to_save + 'data/Buzzard_+'version+'_redMagic_'+rm_file+'_Y3.fits'\n",
    "    if os.path.exists(path):\n",
    "        os.remove(path)\n",
    "    \n",
    "    fits_f = Table()\n",
    "    fits_f['RA'] = mastercat['catalog'][ 'redmagic'][rm_file]['ra']\n",
    "    fits_f['DEC'] = mastercat['catalog'][ 'redmagic'][rm_file]['dec']\n",
    "    fits_f['ZREDMAGIC'] = mastercat['catalog'][ 'redmagic'][rm_file]['zredmagic']\n",
    "    fits_f['Z'] = mastercat['catalog'][ 'redmagic'][rm_file]['zspec']\n",
    "    fits_f['weight'] = mastercat['catalog'][ 'redmagic'][rm_file]['weights']\n",
    "    fits_f.write(path)\n",
    "\n",
    "    \n",
    "    \n",
    "for rm_file in m_riles:\n",
    "    path = path_to_save + 'data/Buzzard_+'version+'_redMagic_random_'+rm_file+'_Y3.fits'\n",
    "    if os.path.exists(path):\n",
    "        os.remove(path)\n",
    "    \n",
    "    fits_f = Table()\n",
    "    fits_f['RA'] = mastercat['randoms'][ 'redmagic'][rm_file]['ra']\n",
    "    fits_f['DEC'] = mastercat['randoms'][ 'redmagic'][rm_file]['dec']\n",
    "    fits_f.write(path)\n",
    "\n",
    "    \n",
    "    \n",
    "    \n",
    "    \n",
    "# save WL sample after applying the mask *******"
   ]
  },
  {
   "cell_type": "code",
   "execution_count": null,
   "metadata": {},
   "outputs": [],
   "source": [
    "import astropy.io.fits as pf\n",
    "wide = pf.open('/global/cscratch1/sd/giannini/clusteringz/wide.fits')\n",
    "\n",
    "e1_sh = wide[1].data['E1']\n",
    "e2_sh = wide[1].data['E2']\n",
    "id_obj_sh =  wide[1].data['COADD_OBJECT_ID']#[mask_wl]                                                                                   \n",
    "ra_sh = wide[1].data['RA']#[#mask_wl]                                                                                                     \n",
    "dec_sh = wide[1].data['DEC']#[mask_wl]                                                                                                    \n",
    "flux_i_sh = wide[1].data['FLUX_I']\n",
    "tomo_bin = wide[1].data['tomo_bin_wide']\n",
    "z_sh = wide[1].data['Z']\n",
    "hpix_sh = wide[1].data['HPIX_16384']\n",
    "\n",
    "e1_sh = e1_sh.byteswap().newbyteorder()\n",
    "e2_sh = e2_sh.byteswap().newbyteorder()\n",
    "id_obj_sh = id_obj_sh.byteswap().newbyteorder()\n",
    "ra_sh = ra_sh.byteswap().newbyteorder()\n",
    "dec_sh = dec_sh.byteswap().newbyteorder()\n",
    "flux_i_sh = flux_i_sh.byteswap().newbyteorder()\n",
    "tomo_bin = tomo_bin.byteswap().newbyteorder()\n",
    "z_sh = z_sh.byteswap().newbyteorder()\n",
    "hpix_sh = hpix_sh.byteswap().newbyteorder()\n",
    "\n",
    "import pandas as pf\n",
    "e1_sh = pd.DataFrame(e1_sh)\n",
    "e2_sh = pd.DataFrame(e2_sh)\n",
    "id_obj_sh =  pd.DataFrame(id_obj_sh)                                                                          \n",
    "ra_sh = pd.DataFrame(ra_sh)\n",
    "dec_sh = pd.DataFrame(dec_sh)\n",
    "flux_i_sh = pd.DataFrame(flux_i_sh)\n",
    "tomo_bin = pd.DataFrame(tomo_bin)\n",
    "z_sh = pd.DataFrame(z_sh)\n",
    "hpix_sh = pd.DataFrame(hpix_sh)\n",
    "\n",
    "# apply rm mask\n",
    "pix_sample = convert_to_pix_coord(ra_sh, dec_sh,nside,nest=True)\n",
    "mask_rm = np.in1d(pix_sample,hpix)\n",
    "\n",
    "\n",
    "from astropy.table import Table\n",
    "# folder = \"/global/cscratch1/sd/giannini/clusteringz/wz/data/\"\n",
    "path = folder + 'data/shape_Y3.fits'\n",
    "fits_f = Table()\n",
    "fits_f['ra'] = ra_sh[mask_rm]\n",
    "fits_f['dec'] = dec_sh[mask_rm]\n",
    "fits_f['e1'] = e1_sh[mask_rm]\n",
    "fits_f['e2'] = e2_sh[mask_rm]\n",
    "fits_f['z'] = z_sh[mask_rm]\n",
    "fits_f['tomo_bin'] = tomo_bin[mask_rm]\n",
    "fits_f['id_obj'] = id_obj_sh[mask_rm]\n",
    "fits_f['flux_i'] = flux_i_sh[mask_rm]\n",
    "fits_f.write(path)\n",
    "\n",
    "\n",
    "\n",
    "\n",
    "from astropy.table import Table\n",
    "# folder = \"/global/cscratch1/sd/giannini/clusteringz/wz/data/\"\n",
    "tbins = 4\n",
    "for t in range(tbins):\n",
    "    mask_tbin = np.array(tomo_bin[mask_rm] == t)\n",
    "    path = folder + 'data/shape_Y3_tbin{0}.fits'.format(t)\n",
    "    fits_f = Table()\n",
    "    fits_f['ra'] = ra_sh[mask_rm][mask_tbin]\n",
    "    fits_f['dec'] = dec_sh[mask_rm][mask_tbin]\n",
    "    fits_f['e1'] = e1_sh[mask_rm][mask_tbin]\n",
    "    fits_f['e2'] = e2_sh[mask_rm][mask_tbin]\n",
    "    fits_f['z'] = z_sh[mask_rm][mask_tbin]\n",
    "    fits_f['tomo_bin'] = tomo_bin[mask_rm][mask_tbin]\n",
    "    fits_f['id_obj'] = id_obj_sh[mask_rm][mask_tbin]\n",
    "    fits_f['flux_i'] = flux_i_sh[mask_rm][mask_tbin]\n",
    "    fits_f.write(path)"
   ]
  },
  {
   "cell_type": "code",
   "execution_count": 46,
   "metadata": {},
   "outputs": [
    {
     "data": {
      "image/png": "[encoded data removed]",
      "text/plain": [
       "<Figure size 576x180 with 3 Axes>"
      ]
     },
     "metadata": {
      "needs_background": "light"
     },
     "output_type": "display_data"
    }
   ],
   "source": [
    "import pickle\n",
    "def save_obj(name, obj):\n",
    "    with open(name + '.pkl', 'wb') as f:\n",
    "        pickle.dump(obj, f, pickle.HIGHEST_PROTOCOL)\n",
    "        \n",
    "def load_obj(name):\n",
    "    with open(name + '.pkl', 'rb') as f:\n",
    "        return pickle.load(f)#, encoding='latin1')\n",
    "    \n",
    "import numpy as np\n",
    "edg = np.linspace(0.15,0.95,26)\n",
    "path_to_save = '/global/cscratch1/sd/mgatti/clustering_z/data/'\n",
    "\n",
    "\n",
    "mead,ssd,mead_hld,ssd_hd,mead_hl,ssd_hl,mead_hll,ssd_hll = load_obj(path_to_save+'/resume_sims')\n",
    "'''\n",
    "mead = np.zeros(25)\n",
    "ssd = np.zeros(25) \n",
    "\n",
    "mead_hd = np.zeros(25)\n",
    "ssd_hd = np.zeros(25) \n",
    "\n",
    "\n",
    "mead_hl = np.zeros(25)\n",
    "ssd_hl = np.zeros(25) \n",
    "\n",
    "mead_hll = np.zeros(25)\n",
    "ssd_hll = np.zeros(25) \n",
    "\n",
    "\n",
    "mead = np.zeros(25)\n",
    "ssd = np.zeros(25) \n",
    "\n",
    "for i in range(25):\n",
    "    mask = (zredmagic_tot>edg[i]) & ((zredmagic_tot<edg[i+1]))\n",
    "    mead[i] = np.mean(zredmagic_tot[mask])-np.mean(zspec_tot[mask])\n",
    "    ssd[i] = np.std(zredmagic_tot[mask]-zspec_tot[mask])\n",
    "for i in range(25):\n",
    "    print (i)\n",
    "    mask = (zredmagic_tot_hd>edg[i]) & ((zredmagic_tot_hd<edg[i+1]))\n",
    "    mead_hd[i] = np.mean(zredmagic_tot_hd[mask])-np.mean(zspec_tot_hd[mask])\n",
    "    ssd_hd[i] = np.std(zredmagic_tot_hd[mask]-zspec_tot_hd[mask])\n",
    "for i in range(25):\n",
    "    print (i)\n",
    "    mask = (zredmagic_tot_hl>edg[i]) & ((zredmagic_tot_hl<edg[i+1]))\n",
    "    mead_hl[i] = np.mean(zredmagic_tot_hl[mask])-np.mean(zspec_tot_hl[mask])\n",
    "    ssd_hl[i] = np.std(zredmagic_tot_hl[mask]-zspec_tot_hl[mask])\n",
    "for i in range(25):\n",
    "    print (i)\n",
    "    mask = (zredmagic_tot_hll>edg[i]) & ((zredmagic_tot_hll<edg[i+1]))\n",
    "    mead_hll[i] = np.mean(zredmagic_tot_hll[mask])-np.mean(zspec_tot_hll[mask])\n",
    "    ssd_hll[i] = np.std(zredmagic_tot_hll[mask]-zspec_tot_hll[mask])\n",
    "     \n",
    "'''\n",
    "\n",
    "\n",
    "import h5py\n",
    "import numpy as np\n",
    "\n",
    "mastercat_v = '12_3_19'\n",
    "\n",
    "path_mastercat = '/project/projectdirs/des/www/y3_cats/Y3_mastercat_'+mastercat_v+'.h5'\n",
    "path_to_save = '/global/cscratch1/sd/mgatti/clustering_z/data/'\n",
    "\n",
    "\n",
    "mastercat_data = h5py.File(path_mastercat,'r')\n",
    "select = np.array(mastercat_data['index']['redmagic']['combined_sample_fid']['select'])\n",
    "data_zredmagic_tot = np.array(mastercat_data['catalog']['redmagic']['combined_sample_fid']['zredmagic'])[select]\n",
    "data_zspec_tot= np.array(mastercat_data['catalog']['redmagic']['combined_sample_fid']['zspec'])[select]\n",
    "data_zredmagic_tot = data_zredmagic_tot[data_zspec_tot>-1]\n",
    "data_zspec_tot = data_zspec_tot[data_zspec_tot>-1]\n",
    "\n",
    "\n",
    "\n",
    "\n",
    "select = np.array(mastercat_data['index']['redmagic']['higherlum']['select'])\n",
    "data_zredmagic_tot_hll = np.array(mastercat_data['catalog']['redmagic']['higherlum']['zredmagic'])[select]\n",
    "data_zspec_tot_hll= np.array(mastercat_data['catalog']['redmagic']['higherlum']['zspec'])[select]\n",
    "data_zredmagic_tot_hll = data_zredmagic_tot_hll[data_zspec_tot_hll>-1]\n",
    "data_zspec_tot_hll = data_zspec_tot_hll[data_zspec_tot_hll>-1]\n",
    "\n",
    "\n",
    "select = np.array(mastercat_data['index']['redmagic']['highlum']['select'])\n",
    "data_zredmagic_tot_hl = np.array(mastercat_data['catalog']['redmagic']['highlum']['zredmagic'])[select]\n",
    "data_zspec_tot_hl= np.array(mastercat_data['catalog']['redmagic']['highlum']['zspec'])[select]\n",
    "data_zredmagic_tot_hl = data_zredmagic_tot_hl[data_zspec_tot_hl>-1]\n",
    "data_zspec_tot_hl = data_zspec_tot_hl[data_zspec_tot_hl>-1]\n",
    "\n",
    "\n",
    "\n",
    "data_mead = np.zeros(25)\n",
    "data_ssd = np.zeros(25) \n",
    "data_mead_hd = np.zeros(25)\n",
    "data_ssd_hd = np.zeros(25) \n",
    "data_mead_hl = np.zeros(25)\n",
    "data_ssd_hl = np.zeros(25) \n",
    "data_mead_hll = np.zeros(25)\n",
    "data_ssd_hll = np.zeros(25) \n",
    "data_mead = np.zeros(25)\n",
    "data_ssd = np.zeros(25) \n",
    "[corr_sims_hr,corr_data] = load_obj(path_to_save+'/corr_bias_n2')\n",
    "\n",
    "for i in range(25):\n",
    "    mask = (data_zredmagic_tot>edg[i]) & ((data_zredmagic_tot<edg[i+1]))\n",
    "    data_mead[i] = np.mean(data_zredmagic_tot[mask])-np.mean(data_zspec_tot[mask])\n",
    "    data_ssd[i] = np.std(data_zredmagic_tot[mask]-data_zspec_tot[mask])\n",
    "for i in range(25):\n",
    "    \n",
    "    mask = (data_zredmagic_tot_hl>edg[i]) & ((data_zredmagic_tot_hl<edg[i+1]))\n",
    "    data_mead_hl[i] = np.mean(data_zredmagic_tot_hl[mask])-np.mean(data_zspec_tot_hl[mask])\n",
    "    data_ssd_hl[i] = np.std(data_zredmagic_tot_hl[mask]-data_zspec_tot_hl[mask])\n",
    "for i in range(25):\n",
    "    \n",
    "    mask = (data_zredmagic_tot_hll>edg[i]) & ((data_zredmagic_tot_hll<edg[i+1]))\n",
    "    data_mead_hll[i] = np.mean(data_zredmagic_tot_hll[mask])-np.mean(data_zspec_tot_hll[mask])\n",
    "    data_ssd_hll[i] = np.std(data_zredmagic_tot_hll[mask]-data_zspec_tot_hll[mask])\n",
    "     \n",
    "edg_center = 0.5*(edg[1:]+edg[:-1])\n",
    "fig, ax = plt.subplots(1,3, figsize=(8,2.5))\n",
    "\n",
    "ax[0].plot(edg_center,mead_hll,label = 'sims')\n",
    "\n",
    "ax[0].plot(edg_center,data_mead_hll,label = 'data',linestyle='dashed')\n",
    "ax[1].plot(edg_center,ssd_hll/(1.+edg_center),label = 'sims')\n",
    "ax[1].plot(edg_center,data_ssd_hll/(1.+edg_center),label = 'data',linestyle='dashed')\n",
    "\n",
    "\n",
    "ax[2].plot(edg_center,corr_sims_hr,label = 'sims')\n",
    "ax[2].plot(edg_center,corr_data,label = 'data',linestyle='dashed')\n",
    "#ax[0].plot(data_mead,label = 'combined',linestyle='dashed')\n",
    "#ax[1].plot(data_ssd,label = 'combined',linestyle='dashed')\n",
    "ax[1].legend()\n",
    "ax[0].set_xlabel(r'$z_{\\rm spec}$')\n",
    "ax[1].set_xlabel(r'$z_{\\rm spec}$')\n",
    "ax[2].set_xlabel('z')\n",
    "\n",
    "ax[0].set_ylabel(r'$\\langle z_{\\rm spec}-z_{\\rm redMaGiC} \\rangle$')\n",
    "ax[1].set_ylabel(r'$\\sigma_{\\rm redMaGiC}/(1+z) $')\n",
    "ax[2].set_ylabel(r'$\\int dz N_{i}(z)^2$')\n",
    "plt.tight_layout()\n",
    "plt.savefig('unc.pdf')"
   ]
  },
  {
   "cell_type": "markdown",
   "metadata": {},
   "source": [
    "# sims : make eboss"
   ]
  },
  {
   "cell_type": "code",
   "execution_count": 14,
   "metadata": {},
   "outputs": [],
   "source": [
    "import h5py\n",
    "import os"
   ]
  },
  {
   "cell_type": "code",
   "execution_count": 16,
   "metadata": {},
   "outputs": [],
   "source": [
    "import pyfits as pf\n",
    "import numpy as np\n",
    "mute = pf.open(\"/global/cscratch1/sd/giannini/clusteringz/Y3data/data/eBOSS_BOSS_all5_v7nov19_y3cuts_totweight.fits\")\n",
    "\n",
    "nside = 1024\n",
    "pix_mask = convert_to_pix_coord(mute[1].data['ra'],mute[1].data['dec'], nside=1024,nest=False)\n",
    "\n",
    "\n",
    "\n",
    "# select Buzzard with a given redshift distribution!\n",
    "# add cuts **************\n",
    "path= '/global/project/projectdirs/des/jderose/Chinchilla/Herd/Chinchilla-3/v1.9.8/sampleselection/Y3a/mastercat/'\n",
    "version = 'v1.9.8_Y3a'\n",
    "mastercat = h5py.File(path+'Buzzard-3_'+version+'_mastercat.h5','r')\n",
    "\n",
    "zb = np.array(mastercat['catalog']['bpz'][u'unsheared']['z'])[mastercat['index']['maglim']['select']]\n",
    "rab = np.array(mastercat['catalog']['gold'][u'ra'])[mastercat['index']['maglim']['select']]\n",
    "decb = np.array(mastercat['catalog']['gold'][u'dec'])[mastercat['index']['maglim']['select']]\n",
    "\n",
    "\n",
    "# wl *******************************************************\n",
    "select = np.array(mastercat['index']['select'])\n",
    "e1  = np.array(mastercat['catalog']['metacal']['unsheared']['e1'])[select]\n",
    "e2 = np.array(mastercat['catalog']['metacal']['unsheared']['e2'])[select]\n",
    "coadd_id = np.array(mastercat['catalog']['metacal']['unsheared']['coadd_object_id'])[select]\n",
    "\n",
    "ra  = np.array(mastercat['catalog']['metacal']['unsheared']['ra'])[select]\n",
    "dec = np.array(mastercat['catalog']['metacal']['unsheared']['dec'])[select]\n",
    "bin_index = np.array(mastercat['catalog']['sompz']['unsheared']['bhat'])[select]\n",
    "\n",
    "# random ****************************************************************\n",
    "mute = pf.open('/global/cscratch1/sd/giannini/clusteringz/Y3buzzard/data/redMagic_Y3_randoms_eboss.fits')\n",
    "ra_rndm = mute[1].data['ra']\n",
    "dec_rndm = mute[1].data['dec']\n",
    "\n",
    "\n",
    "\n",
    "\n",
    "\n",
    "\n",
    "\n",
    "\n"
   ]
  },
  {
   "cell_type": "code",
   "execution_count": 29,
   "metadata": {},
   "outputs": [],
   "source": [
    "mute = pf.open('/global/cscratch1/sd/giannini/clusteringz/Y3buzzard/data/redMagic_Y3_randoms_eboss.fits')\n",
    "ra_rndm = mute[1].data['ra']\n",
    "dec_rndm = mute[1].data['dec']\n",
    "\n",
    "pix_ref = convert_to_pix_coord(rab,decb, nside=1024,nest=False)\n",
    "mask = np.in1d(pix_ref,pix_mask)\n",
    "rab_masked = rab[mask]\n",
    "decb_masked = decb[mask]\n",
    "zb_masked = zb[mask]\n",
    "\n",
    "pix_wl = convert_to_pix_coord(ra,dec, nside=1024,nest=False)\n",
    "\n",
    "mask = np.in1d(pix_wl,pix_mask)\n",
    "ra_masked = ra[mask]\n",
    "dec_masked = dec[mask]\n",
    "\n",
    "\n",
    "\n",
    "pix_rndm = convert_to_pix_coord(ra_rndm,dec_rndm, nside=1024,nest=False)\n",
    "\n",
    "mask = np.in1d(pix_rndm,pix_mask)\n",
    "ra_rndm_masked = ra_rndm[mask]\n",
    "dec_rndm_masked = dec_rndm[mask]"
   ]
  },
  {
   "cell_type": "code",
   "execution_count": 35,
   "metadata": {},
   "outputs": [
    {
     "data": {
      "image/png": "[encoded data removed]",
      "text/plain": [
       "<Figure size 612x388.8 with 2 Axes>"
      ]
     },
     "metadata": {
      "needs_background": "light"
     },
     "output_type": "display_data"
    },
    {
     "data": {
      "image/png": "[encoded data removed]",
      "text/plain": [
       "<Figure size 612x388.8 with 2 Axes>"
      ]
     },
     "metadata": {
      "needs_background": "light"
     },
     "output_type": "display_data"
    },
    {
     "data": {
      "image/png": "[encoded data removed]",
      "text/plain": [
       "<Figure size 612x388.8 with 2 Axes>"
      ]
     },
     "metadata": {
      "needs_background": "light"
     },
     "output_type": "display_data"
    },
    {
     "data": {
      "image/png": "[encoded data removed]",
      "text/plain": [
       "<Figure size 612x388.8 with 2 Axes>"
      ]
     },
     "metadata": {
      "needs_background": "light"
     },
     "output_type": "display_data"
    }
   ],
   "source": [
    "maglim_map = np.zeros(hp.nside2npix(nside))\n",
    "\n",
    "pix_ref = convert_to_pix_coord(rab_masked,decb_masked, nside=1024,nest=False)\n",
    "unique_pix1, idx1, idx_rep1 = np.unique(pix_ref, return_index=True, return_inverse=True)\n",
    "maglim_map[unique_pix1] += np.bincount(idx_rep1, weights=np.ones(len(pix_ref)))\n",
    "hp.mollview(maglim_map)\n",
    "\n",
    "wl_map = np.zeros(hp.nside2npix(nside))\n",
    "pix_wl = convert_to_pix_coord(ra_masked,dec_masked, nside=1024,nest=False)\n",
    "unique_pix1, idx1, idx_rep1 = np.unique(pix_wl, return_index=True, return_inverse=True)\n",
    "wl_map[unique_pix1] += np.bincount(idx_rep1, weights=np.ones(len(pix_wl)))\n",
    "hp.mollview(wl_map)\n",
    "\n",
    "rndm_map = np.zeros(hp.nside2npix(nside))\n",
    "pix_rndm = convert_to_pix_coord(ra_rndm,dec_rndm, nside=1024,nest=False)\n",
    "unique_pix1, idx1, idx_rep1 = np.unique(pix_rndm, return_index=True, return_inverse=True)\n",
    "rndm_map[unique_pix1] += np.bincount(idx_rep1, weights=np.ones(len(pix_rndm)))\n",
    "hp.mollview(rndm_map)\n",
    "\n",
    "rndm_map1 = np.zeros(hp.nside2npix(nside))\n",
    "pix_rndm = convert_to_pix_coord(ra_rndm_masked,dec_rndm_masked, nside=1024,nest=False)\n",
    "unique_pix1, idx1, idx_rep1 = np.unique(pix_rndm, return_index=True, return_inverse=True)\n",
    "rndm_map1[unique_pix1] += np.bincount(idx_rep1, weights=np.ones(len(pix_rndm)))\n",
    "hp.mollview(rndm_map-rndm_map)\n",
    "\n",
    "\n"
   ]
  },
  {
   "cell_type": "code",
   "execution_count": 31,
   "metadata": {},
   "outputs": [
    {
     "data": {
      "text/plain": [
       "1"
      ]
     },
     "execution_count": 31,
     "metadata": {},
     "output_type": "execute_result"
    }
   ],
   "source": [
    "1"
   ]
  },
  {
   "cell_type": "code",
   "execution_count": 14,
   "metadata": {},
   "outputs": [
    {
     "data": {
      "text/plain": [
       "<matplotlib.collections.PathCollection at 0x2aaaebd826d0>"
      ]
     },
     "execution_count": 14,
     "metadata": {},
     "output_type": "execute_result"
    },
    {
     "data": {
      "image/png": "[encoded data removed]",
      "text/plain": [
       "<Figure size 432x288 with 1 Axes>"
      ]
     },
     "metadata": {
      "needs_background": "light"
     },
     "output_type": "display_data"
    }
   ],
   "source": [
    "path_to_save = '/global/cscratch1/sd/mgatti/clustering_z/data/'\n",
    "version = 'v1.9.8_Y3a'\n",
    "mastercat = h5py.File('/global/cscratch1/sd/jderose/BCC/Chinchilla/Herd/Chinchilla-3/sampleselection/Y3a/Buzzard-3_'+version+'_mastercat.h5','r')\n",
    "\n",
    "\n",
    "ra_rndm = np.array(rab)\n",
    "dec_rndm = np.array(decb)\n",
    "ind = np.random.randint(0,len(ra_rndm),1000)\n",
    "plt.scatter(ra_rndm[ind], dec_rndm[ind])"
   ]
  },
  {
   "cell_type": "code",
   "execution_count": 42,
   "metadata": {},
   "outputs": [
    {
     "data": {
      "text/plain": [
       "<matplotlib.collections.PathCollection at 0x2aaae7e26d10>"
      ]
     },
     "execution_count": 42,
     "metadata": {},
     "output_type": "execute_result"
    },
    {
     "data": {
      "image/png": "[encoded data removed]",
      "text/plain": [
       "<Figure size 432x288 with 1 Axes>"
      ]
     },
     "metadata": {
      "needs_background": "light"
     },
     "output_type": "display_data"
    }
   ],
   "source": [
    "plt.scatter(ra_buzz[1::100], dec_buzz[1::100])"
   ]
  },
  {
   "cell_type": "code",
   "execution_count": 22,
   "metadata": {},
   "outputs": [
    {
     "data": {
      "text/plain": [
       "<matplotlib.collections.PathCollection at 0x2aaae714ecd0>"
      ]
     },
     "execution_count": 22,
     "metadata": {},
     "output_type": "execute_result"
    },
    {
     "data": {
      "image/png": "[encoded data removed]",
      "text/plain": [
       "<Figure size 432x288 with 1 Axes>"
      ]
     },
     "metadata": {
      "needs_background": "light"
     },
     "output_type": "display_data"
    }
   ],
   "source": [
    "plt.scatter(mute[1].data['RA'][1::100], mute[1].data['DEC'][1::100])"
   ]
  },
  {
   "cell_type": "code",
   "execution_count": 17,
   "metadata": {},
   "outputs": [
    {
     "data": {
      "text/plain": [
       "<matplotlib.collections.PathCollection at 0x2aaae6f01050>"
      ]
     },
     "execution_count": 17,
     "metadata": {},
     "output_type": "execute_result"
    },
    {
     "data": {
      "image/png": "[encoded data removed]",
      "text/plain": [
       "<Figure size 432x288 with 1 Axes>"
      ]
     },
     "metadata": {
      "needs_background": "light"
     },
     "output_type": "display_data"
    }
   ],
   "source": [
    "plt.scatter(ra_buzz[1::1000], dec_buzz[1::1000])"
   ]
  },
  {
   "cell_type": "code",
   "execution_count": 12,
   "metadata": {},
   "outputs": [
    {
     "data": {
      "text/plain": [
       "12524606"
      ]
     },
     "execution_count": 12,
     "metadata": {},
     "output_type": "execute_result"
    }
   ],
   "source": []
  },
  {
   "cell_type": "code",
   "execution_count": 39,
   "metadata": {},
   "outputs": [
    {
     "name": "stderr",
     "output_type": "stream",
     "text": [
      "/global/u1/g/giannini/.conda/envs/py27/lib/python2.7/site-packages/ipykernel_launcher.py:2: VisibleDeprecationWarning: Passing `normed=True` on non-uniform bins has always been broken, and computes neither the probability density function nor the probability mass function. The result is only correct if the bins are uniform, when density=True will produce the same result anyway. The argument will be removed in a future version of numpy.\n",
      "  \n",
      "/global/u1/g/giannini/.conda/envs/py27/lib/python2.7/site-packages/ipykernel_launcher.py:4: VisibleDeprecationWarning: Passing `normed=True` on non-uniform bins has always been broken, and computes neither the probability density function nor the probability mass function. The result is only correct if the bins are uniform, when density=True will produce the same result anyway. The argument will be removed in a future version of numpy.\n",
      "  after removing the cwd from sys.path.\n"
     ]
    }
   ],
   "source": [
    "'''\n",
    "# random draw from a distribution ****************\n",
    "hx,be=np.histogram(mute[1].data['z'], bins = np.linspace(0.1,1.1,50),normed=True)\n",
    "\n",
    "hz,_ = np.histogram(z_buzz, bins = np.linspace(0.1,1.1,50),normed=True)\n",
    "w = ((hx/hz)/np.sum((hx/hz))*len(mute[1].data['z'])/np.sum((hx/hz)/np.sum((hx/hz)))).astype(int)\n",
    "wh = ((z_buzz -0.1)/(be[1]-be[0])).astype(int)\n",
    "new_z = []\n",
    "new_ra = []\n",
    "new_dec = []\n",
    "idd = np.random.randint(0,len(z_buzz),len(mute[1].data['z']))\n",
    "new_z = z_buzz[idd]\n",
    "new_ra = ra_buzz[idd]\n",
    "new_dec = dec_buzz[idd]\n",
    "'''"
   ]
  },
  {
   "cell_type": "code",
   "execution_count": null,
   "metadata": {},
   "outputs": [],
   "source": []
  },
  {
   "cell_type": "code",
   "execution_count": 22,
   "metadata": {},
   "outputs": [
    {
     "data": {
      "text/plain": [
       "\"\\nmastercat = h5py.File('/global/homes/j/jderose/cscratch/BCC/Chinchilla/Herd/Chinchilla-3/sampleselection/Y3a/Buzzard-3_v1.9.8_Y3a_mastercat.h5')\\ndecrm = np.array(mastercat['catalog'][ 'redmagic']['combined_sample_fid']['dec'])\\nrarm = np.array(mastercat['catalog'][ 'redmagic']['combined_sample_fid']['ra'])\\nzspecrm = np.array(mastercat['catalog'][ 'redmagic']['combined_sample_fid']['zspec'])\\nzredmagic =np.array( mastercat['catalog'][ 'redmagic']['combined_sample_fid']['zredmagic'])\\nweight = np.array(mastercat['catalog'][ 'redmagic']['combined_sample_fid']['weights'])\\nid_obj = np.array(mastercat['catalog'][ 'redmagic']['combined_sample_fid']['coadd_object_id'])\\n\\npix_buzz = convert_to_pix_coord(rarm,decrm, nside=1024,nest=False)\\nmask = np.in1d(pix_buzz,pix_mask)\\nfrom astropy.table import Table\\npath = folder + '/redMagic_Y3_eboss.fits'\\ntry:\\n    os.remove(path)\\nexcept:\\n    pass\\nfits_f = Table()\\nfits_f['RA'] = rarm[mask]\\nfits_f['DEC'] = decrm[mask]\\nfits_f['ZREDMAGIC'] = zredmagic[mask]\\nfits_f['Z'] = zspecrm[mask]\\nfits_f['weight'] = weight[mask]\\nfits_f.write(path)\\n\""
      ]
     },
     "execution_count": 22,
     "metadata": {},
     "output_type": "execute_result"
    },
    {
     "data": {
      "image/png": "[encoded data removed]",
      "text/plain": [
       "<Figure size 432x288 with 1 Axes>"
      ]
     },
     "metadata": {
      "needs_background": "light"
     },
     "output_type": "display_data"
    }
   ],
   "source": [
    "\n",
    "\"\"\"\n",
    "for wx in range(50-1):\n",
    "    #try:\n",
    "        maski = wh==wx\n",
    "        index = np.random.randint(0,len(z_buzz[maski]),w[wx])\n",
    "        new_z=np.hstack([new_z,np.array(z_buzz[maski][index])])\n",
    "        new_ra=np.hstack([new_ra,np.array(ra_buzz[maski][index])])\n",
    "        new_dec=np.hstack([new_dec,np.array(dec_buzz[maski][index])]) \n",
    "#plt.scatter()\n",
    "\"\"\"\n",
    "# create randoms *****************\n",
    "# ra_rndm = np.array(mastercat['randoms']['maglim']['ra'])\n",
    "# dec_rndm = np.array(mastercat['randoms']['maglim']['dec'])\n",
    "\n",
    "# pix_buzz = convert_to_pix_coord(ra_rndm,dec_rndm, nside=1024,nest=False)\n",
    "\n",
    "# mask = np.in1d(pix_buzz,pix_mask)\n",
    "# ra_rndm = ra_rndm[mask]\n",
    "# dec_rndm = dec_rndm[mask]\n",
    "\n",
    "# print (\"done\")\n",
    "# *********************************************\n",
    "\n",
    "mask_dec = (decb > -5.)\n",
    "plt.scatter(rab[mask_dec][1::100], decb[mask_dec][1::100])\n",
    "from astropy.table import Table\n",
    "import os\n",
    "folder = \"/global/cscratch1/sd/giannini/clusteringz/Y3buzzard/data/\"\n",
    "path = folder + 'eboss_buzzard.fits'\n",
    "try:\n",
    "    os.remove(path)\n",
    "except:\n",
    "    pass\n",
    "idd = np.random.randint(0,len(rab[mask_dec]),300000)\n",
    "fits_f = Table()\n",
    "fits_f['RA'] = rab[mask_dec][idd]\n",
    "fits_f['DEC'] = decb[mask_dec][idd]\n",
    "fits_f['Z'] = zb[mask_dec][idd]\n",
    "\n",
    "fits_f.write(path)\n",
    "\n",
    "\n",
    "# folder = \"/global/cscratch1/sd/giannini/clusteringz/Y3buzzard/data/\"\n",
    "# path = folder + 'eboss_randoms_buzzard.fits'\n",
    "# try:\n",
    "#     os.remove(path)\n",
    "# except:\n",
    "#     pass\n",
    "# fits_f = Table()\n",
    "# fits_f['RA'] =ra_rndm\n",
    "# fits_f['DEC'] = dec_rndm\n",
    "\n",
    "# fits_f.write(path)\n",
    "'''\n",
    "mastercat = h5py.File('/global/homes/j/jderose/cscratch/BCC/Chinchilla/Herd/Chinchilla-3/sampleselection/Y3a/Buzzard-3_v1.9.8_Y3a_mastercat.h5')\n",
    "decrm = np.array(mastercat['catalog'][ 'redmagic']['combined_sample_fid']['dec'])\n",
    "rarm = np.array(mastercat['catalog'][ 'redmagic']['combined_sample_fid']['ra'])\n",
    "zspecrm = np.array(mastercat['catalog'][ 'redmagic']['combined_sample_fid']['zspec'])\n",
    "zredmagic =np.array( mastercat['catalog'][ 'redmagic']['combined_sample_fid']['zredmagic'])\n",
    "weight = np.array(mastercat['catalog'][ 'redmagic']['combined_sample_fid']['weights'])\n",
    "id_obj = np.array(mastercat['catalog'][ 'redmagic']['combined_sample_fid']['coadd_object_id'])\n",
    "\n",
    "pix_buzz = convert_to_pix_coord(rarm,decrm, nside=1024,nest=False)\n",
    "mask = np.in1d(pix_buzz,pix_mask)\n",
    "from astropy.table import Table\n",
    "path = folder + '/redMagic_Y3_eboss.fits'\n",
    "try:\n",
    "    os.remove(path)\n",
    "except:\n",
    "    pass\n",
    "fits_f = Table()\n",
    "fits_f['RA'] = rarm[mask]\n",
    "fits_f['DEC'] = decrm[mask]\n",
    "fits_f['ZREDMAGIC'] = zredmagic[mask]\n",
    "fits_f['Z'] = zspecrm[mask]\n",
    "fits_f['weight'] = weight[mask]\n",
    "fits_f.write(path)\n",
    "'''\n",
    "\n",
    "\n",
    "\n",
    "\n",
    "\n"
   ]
  },
  {
   "cell_type": "code",
   "execution_count": 18,
   "metadata": {},
   "outputs": [
    {
     "data": {
      "text/plain": [
       "300000"
      ]
     },
     "execution_count": 18,
     "metadata": {},
     "output_type": "execute_result"
    }
   ],
   "source": [
    "len(zb[mask_dec][idd])"
   ]
  },
  {
   "cell_type": "code",
   "execution_count": 15,
   "metadata": {},
   "outputs": [
    {
     "name": "stdout",
     "output_type": "stream",
     "text": [
      "very done\n"
     ]
    }
   ],
   "source": [
    "ra_rm_rand = np.array(mastercat['randoms']['redmagic']['combined_sample_fid']['ra'])\n",
    "dec_rm_rand = np.array(mastercat['randoms']['redmagic']['combined_sample_fid']['dec'])\n",
    "\n",
    "# pix_buzz = convert_to_pix_coord(ra_rm_rand,dec_rm_rand, nside=1024,nest=False)\n",
    "# mask = np.in1d(pix_buzz,pix_mask)\n",
    "from astropy.table import Table\n",
    "path = '/global/cscratch1/sd/giannini/clusteringz/Y3buzzard/data/redMagic_Y3_randoms_eboss.fits'\n",
    "try:\n",
    "    os.remove(path)\n",
    "except:\n",
    "    pass\n",
    "fits_f = Table()\n",
    "mask = dec_rm_rand > -5.\n",
    "fits_f['RA'] = ra_rm_rand[mask]\n",
    "fits_f['DEC'] = dec_rm_rand[mask]\n",
    "fits_f.write(path)\n",
    "\n",
    "print ('very done')\n",
    "#mastercat.close()"
   ]
  },
  {
   "cell_type": "code",
   "execution_count": 7,
   "metadata": {},
   "outputs": [
    {
     "data": {
      "text/plain": [
       "<matplotlib.collections.PathCollection at 0x2aaaf3f14190>"
      ]
     },
     "execution_count": 7,
     "metadata": {},
     "output_type": "execute_result"
    },
    {
     "data": {
      "image/png": "[encoded data removed]",
      "text/plain": [
       "<Figure size 432x288 with 1 Axes>"
      ]
     },
     "metadata": {
      "needs_background": "light"
     },
     "output_type": "display_data"
    }
   ],
   "source": [
    "import h5py \n",
    "path_to_save = '/global/cscratch1/sd/mgatti/clustering_z/data/'\n",
    "version = 'v1.9.8_Y3a'\n",
    "mastercat = h5py.File('/global/cscratch1/sd/jderose/BCC/Chinchilla/Herd/Chinchilla-3/sampleselection/Y3a/Buzzard-3_'+version+'_mastercat.h5','r')\n",
    "\n",
    "ra_rm_rand = np.array(mastercat['randoms']['redmagic']['combined_sample_fid']['ra'])\n",
    "dec_rm_rand = np.array(mastercat['randoms']['redmagic']['combined_sample_fid']['dec'])\n",
    "mask = dec_rm_rand > -5.\n",
    "plt.scatter(ra_rm_rand[mask][1::1000], dec_rm_rand[mask][1::1000])"
   ]
  },
  {
   "cell_type": "code",
   "execution_count": null,
   "metadata": {},
   "outputs": [],
   "source": [
    "1"
   ]
  },
  {
   "cell_type": "code",
   "execution_count": 10,
   "metadata": {},
   "outputs": [
    {
     "data": {
      "text/plain": [
       "[u'bhat', u'chat', u'coadd_object_id']"
      ]
     },
     "execution_count": 10,
     "metadata": {},
     "output_type": "execute_result"
    }
   ],
   "source": [
    "mastercat['catalog']['sompz']['unsheared'].keys()"
   ]
  },
  {
   "cell_type": "code",
   "execution_count": null,
   "metadata": {},
   "outputs": [],
   "source": [
    "\n"
   ]
  },
  {
   "cell_type": "code",
   "execution_count": 29,
   "metadata": {},
   "outputs": [
    {
     "data": {
      "text/plain": [
       "(127166591, 127166591)"
      ]
     },
     "execution_count": 29,
     "metadata": {},
     "output_type": "execute_result"
    }
   ],
   "source": [
    "len(mask), len(ra)"
   ]
  },
  {
   "cell_type": "code",
   "execution_count": null,
   "metadata": {},
   "outputs": [],
   "source": [
    "pix_buzz_metacal = convert_to_pix_coord(ra,dec, nside=1024,nest=False)\n",
    "\n",
    "mask_wl = np.in1d(pix_buzz_metacal,pix_mask)"
   ]
  },
  {
   "cell_type": "code",
   "execution_count": 19,
   "metadata": {},
   "outputs": [],
   "source": [
    "path_to_save = '/global/cscratch1/sd/giannini/clusteringz/Y3buzzard/data'"
   ]
  },
  {
   "cell_type": "code",
   "execution_count": 20,
   "metadata": {},
   "outputs": [],
   "source": [
    "from astropy.table import Table\n",
    "import os\n",
    "path = path_to_save + '/shape_Y3_eboss_buzzard.fits'\n",
    "if os.path.exists(path):\n",
    "    os.remove(path)\n",
    "fits_f = Table()\n",
    "maskk = dec > -5.\n",
    "fits_f['ra'] = ra[maskk]\n",
    "fits_f['dec'] = dec[maskk]\n",
    "fits_f['e1'] = e1[maskk]\n",
    "fits_f['e2'] = e2[maskk]\n",
    "fits_f['tomo_bin'] = bin_index[maskk]\n",
    "fits_f['id'] = coadd_id[maskk]\n",
    "fits_f.write(path)"
   ]
  },
  {
   "cell_type": "code",
   "execution_count": null,
   "metadata": {},
   "outputs": [],
   "source": [
    "/global/cscratch1/sd/giannini/clusteringz/Y3buzzard/data/shape_Y3_eboss_buzzard.fits"
   ]
  },
  {
   "cell_type": "code",
   "execution_count": null,
   "metadata": {},
   "outputs": [],
   "source": [
    "hp.mollview(mask)\n",
    "hp.mollview(mask_wl)"
   ]
  },
  {
   "cell_type": "markdown",
   "metadata": {},
   "source": [
    "# test merda"
   ]
  },
  {
   "cell_type": "code",
   "execution_count": 4,
   "metadata": {},
   "outputs": [],
   "source": [
    "import h5py \n",
    "path_to_save = '/global/cscratch1/sd/mgatti/clustering_z/data/'\n",
    "version = 'v1.9.8_Y3a'\n",
    "mastercat = h5py.File('/global/cscratch1/sd/jderose/BCC/Chinchilla/Herd/Chinchilla-3/sampleselection/Y3a/Buzzard-3_'+version+'_mastercat.h5','r')\n"
   ]
  },
  {
   "cell_type": "code",
   "execution_count": 15,
   "metadata": {},
   "outputs": [],
   "source": [
    "pix_gold = np.array(mastercat['masks/gold/hpix'])"
   ]
  },
  {
   "cell_type": "code",
   "execution_count": null,
   "metadata": {},
   "outputs": [],
   "source": [
    "def IndexToDeclRa(index, nside=1024,nest= False):\n",
    "    theta,phi=hp.pixelfunc.pix2ang(nside ,index,nest=nest)\n",
    "    return -np.degrees(theta-np.pi/2.),np.degrees(phi)"
   ]
  },
  {
   "cell_type": "code",
   "execution_count": null,
   "metadata": {},
   "outputs": [],
   "source": [
    "ra_gold = np.array(mastercat['catalog/gold/ra'])\n",
    "dec_gold =  np.array(mastercat['catalog/gold/dec'])"
   ]
  },
  {
   "cell_type": "code",
   "execution_count": 16,
   "metadata": {},
   "outputs": [],
   "source": [
    "pix_gold = convert_to_pix_coord(ra_gold,dec_gold, nside=1024,nest=False)\n",
    "mask_gold = np.in1d(pix_gold,pix_gold)"
   ]
  },
  {
   "cell_type": "code",
   "execution_count": 17,
   "metadata": {},
   "outputs": [
    {
     "data": {
      "text/plain": [
       "1"
      ]
     },
     "execution_count": 17,
     "metadata": {},
     "output_type": "execute_result"
    }
   ],
   "source": [
    "1"
   ]
  },
  {
   "cell_type": "code",
   "execution_count": 18,
   "metadata": {},
   "outputs": [],
   "source": [
    "mag_i = np.array(mastercat['catalog/gold/mag_i'])[mask_gold]"
   ]
  },
  {
   "cell_type": "code",
   "execution_count": 22,
   "metadata": {},
   "outputs": [],
   "source": [
    "bpz_z = np.array(mastercat['catalog/bpz/unsheared/z'])[mask_gold]"
   ]
  },
  {
   "cell_type": "code",
   "execution_count": 23,
   "metadata": {},
   "outputs": [],
   "source": [
    "mask_maglim = (mag_i < (4*bpz_z + 18)) & (mag_i > 17.5)\n",
    "               \n",
    "               "
   ]
  },
  {
   "cell_type": "code",
   "execution_count": 24,
   "metadata": {},
   "outputs": [],
   "source": [
    "ra_maglim = ra_gold[mask_maglim]\n",
    "dec_maglim = dec_gold[mask_maglim]\n",
    "z_maglim = bpz_z[mask_maglim]"
   ]
  },
  {
   "cell_type": "code",
   "execution_count": 27,
   "metadata": {},
   "outputs": [],
   "source": [
    "mask_dec = dec_maglim > -5."
   ]
  },
  {
   "cell_type": "code",
   "execution_count": 33,
   "metadata": {},
   "outputs": [],
   "source": [
    "mask_z = z_maglim[mask_dec] < 1.2"
   ]
  },
  {
   "cell_type": "code",
   "execution_count": 32,
   "metadata": {},
   "outputs": [
    {
     "data": {
      "text/plain": [
       "1302657"
      ]
     },
     "execution_count": 32,
     "metadata": {},
     "output_type": "execute_result"
    }
   ],
   "source": [
    "len(z_maglim[mask_dec][mask_z])"
   ]
  },
  {
   "cell_type": "code",
   "execution_count": 31,
   "metadata": {},
   "outputs": [
    {
     "data": {
      "text/plain": [
       "(array([ 25185.,  97649., 150354., 150989., 159229., 170956., 169750.,\n",
       "        158409., 122649.,  97487.]),\n",
       " array([0.00282583, 0.11254319, 0.22226055, 0.33197791, 0.44169527,\n",
       "        0.55141263, 0.66112999, 0.77084735, 0.88056471, 0.99028207,\n",
       "        1.09999944]),\n",
       " <a list of 10 Patch objects>)"
      ]
     },
     "execution_count": 31,
     "metadata": {},
     "output_type": "execute_result"
    },
    {
     "data": {
      "image/png": "[encoded data removed]",
      "text/plain": [
       "<Figure size 432x288 with 1 Axes>"
      ]
     },
     "metadata": {
      "needs_background": "light"
     },
     "output_type": "display_data"
    }
   ],
   "source": [
    "plt.hist(z_maglim[mask_dec][mask_z])"
   ]
  },
  {
   "cell_type": "code",
   "execution_count": 36,
   "metadata": {},
   "outputs": [],
   "source": [
    "from astropy.table import Table\n",
    "import os\n",
    "folder = \"/global/cscratch1/sd/giannini/clusteringz/Y3buzzard/data/\"\n",
    "path = folder + 'eboss_buzzard.fits'\n",
    "try:\n",
    "    os.remove(path)\n",
    "except:\n",
    "    pass\n",
    "idd = np.random.randint(0,len(ra_maglim[mask_dec][mask_z]),300000)\n",
    "fits_f = Table()\n",
    "fits_f['RA'] = ra_maglim[mask_dec][mask_z][idd]\n",
    "fits_f['DEC'] = dec_maglim[mask_dec][mask_z][idd]\n",
    "fits_f['Z'] = z_maglim[mask_dec][mask_z][idd]\n",
    "\n",
    "fits_f.write(path)"
   ]
  },
  {
   "cell_type": "code",
   "execution_count": 37,
   "metadata": {},
   "outputs": [
    {
     "data": {
      "text/plain": [
       "<matplotlib.collections.PathCollection at 0x2aaaf13cc590>"
      ]
     },
     "execution_count": 37,
     "metadata": {},
     "output_type": "execute_result"
    },
    {
     "data": {
      "image/png": "[encoded data removed]",
      "text/plain": [
       "<Figure size 432x288 with 1 Axes>"
      ]
     },
     "metadata": {
      "needs_background": "light"
     },
     "output_type": "display_data"
    }
   ],
   "source": [
    "plt.scatter(ra_maglim[mask_dec][mask_z][idd][1::100], dec_maglim[mask_dec][mask_z][idd][1::100])"
   ]
  },
  {
   "cell_type": "code",
   "execution_count": 26,
   "metadata": {},
   "outputs": [
    {
     "data": {
      "text/plain": [
       "[u'match_gold', u'random_select', u'select']"
      ]
     },
     "execution_count": 26,
     "metadata": {},
     "output_type": "execute_result"
    }
   ],
   "source": [
    "mastercat['index/redmagic/combined_sample_fid/select'].keys()"
   ]
  },
  {
   "cell_type": "code",
   "execution_count": 34,
   "metadata": {},
   "outputs": [
    {
     "data": {
      "text/plain": [
       "[u'downsampled_dm', u'maglim', u'redmagic', u'redmagic_nomag']"
      ]
     },
     "execution_count": 34,
     "metadata": {},
     "output_type": "execute_result"
    }
   ],
   "source": [
    "mastercat['randoms'].keys()"
   ]
  },
  {
   "cell_type": "code",
   "execution_count": 36,
   "metadata": {},
   "outputs": [],
   "source": [
    "import pyfits as pf\n",
    "import numpy as np\n",
    "mute = pf.open(\"/global/cscratch1/sd/giannini/clusteringz/Y3data/data/eBOSS_BOSS_all5_v7nov19_y3cuts_totweight.fits\")\n",
    "\n",
    "nside = 1024\n",
    "pix_mask = convert_to_pix_coord(mute[1].data['ra'],mute[1].data['dec'], nside=1024,nest=False)\n",
    "\n",
    "\n",
    "\n",
    "# select Buzzard with a given redshift distribution!\n",
    "# add cuts **************\n",
    "path= '/global/project/projectdirs/des/jderose/Chinchilla/Herd/Chinchilla-3/v1.9.8/sampleselection/Y3a/mastercat/'\n",
    "version = 'v1.9.8_Y3a'\n",
    "mastercat = h5py.File(path+'Buzzard-3_'+version+'_mastercat.h5','r')\n",
    "\n",
    "z_rm = np.array(mastercat['catalog']['bpz'][u'unsheared']['z'])[mastercat['index/redmagic/combined_sample_fid/select']]\n",
    "r_rm = np.array(mastercat['catalog/redmagic/combined_sample_fid/ra'])[mastercat['index/redmagic/combined_sample_fid/select']]\n",
    "dec_rm = np.array(mastercat['catalog/redmagic/combined_sample_fid/dec'])[mastercat['index/redmagic/combined_sample_fid/select']]\n",
    "# z_rm = np.array(mastercat['catalog']['bpz'][u'unsheared']['z'])[mastercat['index/redmagic/combined_sample_fid/select']]\n",
    "# r_rm = np.array(mastercat['catalog']['gold'][u'ra'])[mastercat['index/redmagic/combined_sample_fid/select']]\n",
    "# dec_rm = np.array(mastercat['catalog']['gold'][u'dec'])[mastercat['index/redmagic/combined_sample_fid/select']]\n",
    "\n",
    "\n",
    "# # wl *******************************************************\n",
    "# select = np.array(mastercat['index']['select'])\n",
    "# e1  = np.array(mastercat['catalog']['metacal']['unsheared']['e1'])[select]\n",
    "# e2 = np.array(mastercat['catalog']['metacal']['unsheared']['e2'])[select]\n",
    "# coadd_id = np.array(mastercat['catalog']['metacal']['unsheared']['coadd_object_id'])[select]\n",
    "\n",
    "# ra  = np.array(mastercat['catalog']['metacal']['unsheared']['ra'])[select]\n",
    "# dec = np.array(mastercat['catalog']['metacal']['unsheared']['dec'])[select]\n",
    "# bin_index = np.array(mastercat['catalog']['sompz']['unsheared']['bhat'])[select]\n",
    "\n",
    "# # random ****************************************************************\n",
    "# mute = pf.open('/global/cscratch1/sd/giannini/clusteringz/Y3buzzard/data/redMagic_Y3_randoms_eboss.fits')\n",
    "# ra_rndm = mute[1].data['ra']\n",
    "# dec_rndm = mute[1].data['dec']\n"
   ]
  },
  {
   "cell_type": "code",
   "execution_count": null,
   "metadata": {},
   "outputs": [],
   "source": []
  },
  {
   "cell_type": "code",
   "execution_count": 29,
   "metadata": {},
   "outputs": [
    {
     "name": "stdout",
     "output_type": "stream",
     "text": [
      "very done\n"
     ]
    },
    {
     "data": {
      "image/png": "[encoded data removed]",
      "text/plain": [
       "<Figure size 432x288 with 1 Axes>"
      ]
     },
     "metadata": {
      "needs_background": "light"
     },
     "output_type": "display_data"
    }
   ],
   "source": [
    "# mask_dec = (dec_rm > -5.)\n",
    "# plt.scatter(r_rm[mask_dec][1::100], dec_rm[mask_dec][1::100])\n",
    "\n",
    "\n",
    "\n",
    "ra_rm_rand = np.array(mastercat['randoms']['redmagic']['combined_sample_fid']['ra'])\n",
    "dec_rm_rand = np.array(mastercat['randoms']['redmagic']['combined_sample_fid']['dec'])\n",
    "\n",
    "# pix_buzz = convert_to_pix_coord(ra_rm_rand,dec_rm_rand, nside=1024,nest=False)\n",
    "# mask = np.in1d(pix_buzz,pix_mask)\n",
    "from astropy.table import Table\n",
    "path = '/global/cscratch1/sd/giannini/clusteringz/Y3buzzard/data/redMagic_Y3_randoms_eboss.fits'\n",
    "try:\n",
    "    os.remove(path)\n",
    "except:\n",
    "    pass\n",
    "fits_f = Table()\n",
    "mask = dec_rm_rand > -5.\n",
    "fits_f['RA'] = ra_rm_rand[mask]\n",
    "fits_f['DEC'] = dec_rm_rand[mask]\n",
    "fits_f.write(path)\n",
    "\n",
    "print ('very done')\n",
    "#mastercat.close()"
   ]
  },
  {
   "cell_type": "code",
   "execution_count": 30,
   "metadata": {},
   "outputs": [],
   "source": [
    "path_to_save = '/global/cscratch1/sd/giannini/clusteringz/Y3buzzard/data'"
   ]
  },
  {
   "cell_type": "code",
   "execution_count": 20,
   "metadata": {},
   "outputs": [],
   "source": [
    "from astropy.table import Table\n",
    "import os\n",
    "path = path_to_save + '/shape_Y3_eboss_buzzard.fits'\n",
    "if os.path.exists(path):\n",
    "    os.remove(path)\n",
    "fits_f = Table()\n",
    "maskk = dec > -5.\n",
    "fits_f['ra'] = ra[maskk]\n",
    "fits_f['dec'] = dec[maskk]\n",
    "fits_f['e1'] = e1[maskk]\n",
    "fits_f['e2'] = e2[maskk]\n",
    "fits_f['tomo_bin'] = bin_index[maskk]\n",
    "fits_f['id'] = coadd_id[maskk]\n",
    "fits_f.write(path)"
   ]
  }
 ],
 "metadata": {
  "kernelspec": {
   "display_name": "py27",
   "language": "python",
   "name": "py27"
  },
  "language_info": {
   "codemirror_mode": {
    "name": "ipython",
    "version": 2
   },
   "file_extension": ".py",
   "mimetype": "text/x-python",
   "name": "python",
   "nbconvert_exporter": "python",
   "pygments_lexer": "ipython2",
   "version": "2.7.16"
  }
 },
 "nbformat": 4,
 "nbformat_minor": 4
}
