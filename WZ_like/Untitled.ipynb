{
 "cells": [
  {
   "cell_type": "code",
   "execution_count": 25,
   "metadata": {},
   "outputs": [],
   "source": [
    "import pickle\n",
    "def save_obj(name, obj):\n",
    "    with open(name + '.pkl', 'wb') as f:\n",
    "        pickle.dump(obj, f, pickle.HIGHEST_PROTOCOL)\n",
    "        f.close()\n",
    "        \n",
    "def load_obj(name):\n",
    "    with open(name + '.pkl', 'rb') as f:\n",
    "        mute =  pickle.load(f)\n",
    "        f.close()\n",
    "    return mute\n",
    "config = load_obj('/global/homes/m/mgatti/clustering-z/WZ_cosmosis')"
   ]
  },
  {
   "cell_type": "code",
   "execution_count": 28,
   "metadata": {},
   "outputs": [
    {
     "data": {
      "text/plain": [
       "['syst_mean_rm',\n",
       " 'th_correction',\n",
       " 'syst_mean_eboss',\n",
       " 'mag_pos',\n",
       " 'Nz_eboss',\n",
       " 'bincenters_eboss',\n",
       " 'mag_pos1',\n",
       " 'alpha_mag_rm',\n",
       " 'Nz_rm',\n",
       " 'bincenters_rm',\n",
       " 'bias_eboss',\n",
       " 'th_correction_eboss',\n",
       " 'syst_std_rm',\n",
       " 'bias_rm']"
      ]
     },
     "execution_count": 28,
     "metadata": {},
     "output_type": "execute_result"
    }
   ],
   "source": [
    "config.keys()"
   ]
  },
  {
   "cell_type": "code",
   "execution_count": 9,
   "metadata": {},
   "outputs": [],
   "source": [
    "mag_pos =  config['mag_pos'] \n",
    "mag_pos1 = config['mag_pos1'] \n",
    "Nz_rm =    config['Nz_rm'] \n",
    "syst_mean_rm = config['syst_mean_rm'] \n",
    "syst_std_rm = config['syst_std_rm']\n",
    "alpha_mag_rm = config['alpha_mag_rm']\n",
    "bincenters_rm = config['bincenters_rm']\n",
    "bias_rm = config['bias_rm'] \n",
    "bincenters_rm = config['bincenters_rm']\n"
   ]
  },
  {
   "cell_type": "code",
   "execution_count": 11,
   "metadata": {},
   "outputs": [],
   "source": [
    "i=0\n",
    "import numpy as np\n",
    "bbb=0.\n",
    "aaa=0.\n",
    "theory_Nz = np.array(Nz_rm[i,:]-bbb*(alpha_mag_rm[:]-2.)*mag_pos1[i,:]-aaa*bias_rm[:]*mag_pos[i,:])/(bias_rm[:])"
   ]
  },
  {
   "cell_type": "code",
   "execution_count": 22,
   "metadata": {},
   "outputs": [],
   "source": [
    "\n",
    "from scipy import arange, array, exp\n",
    "def extrap1d(interpolator):\n",
    "    xs = interpolator.x\n",
    "    ys = interpolator.y\n",
    "    def pointwise(x):\n",
    "        if x < xs[0]:\n",
    "            return ys[0]+(x-xs[0])*(ys[1]-ys[0])/(xs[1]-xs[0])\n",
    "        elif x > xs[-1]:\n",
    "            return ys[-1]+(x-xs[-1])*(ys[-1]-ys[-2])/(xs[-1]-xs[-2])\n",
    "        else:\n",
    "            return interpolator(x)\n",
    "    def ufunclike(xs):\n",
    "        return array(map(pointwise, array(xs)))\n",
    "    return ufunclike"
   ]
  },
  {
   "cell_type": "code",
   "execution_count": 15,
   "metadata": {},
   "outputs": [],
   "source": [
    "y = np.arange(10)\n",
    "x = np.arange(10)"
   ]
  },
  {
   "cell_type": "code",
   "execution_count": 16,
   "metadata": {},
   "outputs": [],
   "source": [
    "from scipy.interpolate import interp1d\n"
   ]
  },
  {
   "cell_type": "code",
   "execution_count": 17,
   "metadata": {},
   "outputs": [],
   "source": [
    "f = interp1d(x,y)"
   ]
  },
  {
   "cell_type": "code",
   "execution_count": 20,
   "metadata": {},
   "outputs": [],
   "source": [
    "f1 = extrap1d(f)"
   ]
  },
  {
   "cell_type": "markdown",
   "metadata": {},
   "source": [
    "##### f1([0.3,0])"
   ]
  },
  {
   "cell_type": "code",
   "execution_count": null,
   "metadata": {},
   "outputs": [],
   "source": []
  }
 ],
 "metadata": {
  "kernelspec": {
   "display_name": "myenv_up",
   "language": "python",
   "name": "myenv_up"
  },
  "language_info": {
   "codemirror_mode": {
    "name": "ipython",
    "version": 2
   },
   "file_extension": ".py",
   "mimetype": "text/x-python",
   "name": "python",
   "nbconvert_exporter": "python",
   "pygments_lexer": "ipython2",
   "version": "2.7.16"
  }
 },
 "nbformat": 4,
 "nbformat_minor": 4
}
